{
  "cells": [
    {
      "cell_type": "markdown",
      "metadata": {
        "id": "view-in-github",
        "colab_type": "text"
      },
      "source": [
        "<a href=\"https://colab.research.google.com/github/mshitie/MS_KD/blob/main/WithoutKD/WithoutKD_MobileNet.ipynb\" target=\"_parent\"><img src=\"https://colab.research.google.com/assets/colab-badge.svg\" alt=\"Open In Colab\"/></a>"
      ]
    },
    {
      "cell_type": "code",
      "execution_count": 1,
      "metadata": {
        "colab": {
          "base_uri": "https://localhost:8080/"
        },
        "id": "gg-BXkdr4R1E",
        "outputId": "2b64d5b6-8289-495b-af11-56f07081ada1"
      },
      "outputs": [
        {
          "output_type": "stream",
          "name": "stdout",
          "text": [
            "Collecting rarfile\n",
            "  Downloading rarfile-4.1-py3-none-any.whl (28 kB)\n",
            "Installing collected packages: rarfile\n",
            "Successfully installed rarfile-4.1\n",
            "Mounted at /content/drive\n",
            "Extraction completed.\n"
          ]
        }
      ],
      "source": [
        "\n",
        "!pip install rarfile\n",
        "\n",
        "from google.colab import drive\n",
        "import rarfile\n",
        "import os\n",
        "\n",
        "# Mount Google Drive\n",
        "drive.mount('/content/drive')\n",
        "\n",
        "# Path to the .rar file in Google Drive\n",
        "rar_path = '/content/drive/MyDrive/computer_vision/main_data_croped.rar'\n",
        "\n",
        "# Destination folder to extract the contents\n",
        "destination_folder = '/content'\n",
        "\n",
        "# Create the destination folder if it doesn't exist\n",
        "if not os.path.exists(destination_folder):\n",
        "    os.makedirs(destination_folder)\n",
        "\n",
        "# Extract the .rar file\n",
        "with rarfile.RarFile(rar_path, 'r') as rar_ref:\n",
        "    rar_ref.extractall(destination_folder)\n",
        "\n",
        "print(\"Extraction completed.\")"
      ]
    },
    {
      "cell_type": "code",
      "source": [
        "import os\n",
        "import cv2\n",
        "from PIL import Image\n",
        "import numpy as np\n",
        "import scipy\n",
        "import pandas as pd\n",
        "import matplotlib.pyplot as plt\n",
        "plt.style.use('seaborn')\n",
        "\n",
        "from sklearn import metrics\n",
        "from sklearn.model_selection import train_test_split\n",
        "from sklearn.metrics import classification_report\n",
        "from sklearn.metrics import auc, roc_curve\n",
        "from tqdm import tqdm\n",
        "\n",
        "import time"
      ],
      "metadata": {
        "id": "PfD12UUc7fYb",
        "outputId": "f6e18bb5-c2c8-462b-bf32-5a896cfe6e9d",
        "colab": {
          "base_uri": "https://localhost:8080/"
        }
      },
      "execution_count": 2,
      "outputs": [
        {
          "output_type": "stream",
          "name": "stderr",
          "text": [
            "<ipython-input-2-c760a79cdaf2>:8: MatplotlibDeprecationWarning: The seaborn styles shipped by Matplotlib are deprecated since 3.6, as they no longer correspond to the styles shipped by seaborn. However, they will remain available as 'seaborn-v0_8-<style>'. Alternatively, directly use the seaborn API instead.\n",
            "  plt.style.use('seaborn')\n"
          ]
        }
      ]
    },
    {
      "cell_type": "code",
      "source": [
        "# Keras & Tensorflow\n",
        "import keras\n",
        "import tensorflow as tf\n",
        "from keras import layers\n",
        "from keras.models import Model\n",
        "from keras.layers import Lambda, concatenate\n",
        "from tensorflow.keras.utils import to_categorical\n",
        "from keras.preprocessing.image import ImageDataGenerator\n",
        "from keras.models import Sequential\n",
        "from keras.layers import GlobalAveragePooling2D , Conv2D , MaxPooling2D\n",
        "from keras.layers import  Dropout , BatchNormalization , Dense\n",
        "from tensorflow.keras.optimizers import Adam\n",
        "from tensorflow.keras.applications import ResNet50\n",
        "from keras.callbacks import Callback , ReduceLROnPlateau , ModelCheckpoint\n",
        "from sklearn.metrics import cohen_kappa_score, accuracy_score\n",
        "from keras.losses import categorical_crossentropy as logloss\n",
        "from keras.metrics import categorical_accuracy"
      ],
      "metadata": {
        "id": "DHWqCUnn7kEs"
      },
      "execution_count": 3,
      "outputs": []
    },
    {
      "cell_type": "code",
      "source": [
        "\n",
        "# trachoma main dataset binary image classification\n",
        "import os\n",
        "import random\n",
        "import pandas as pd\n",
        "import numpy as np\n",
        "from sklearn.model_selection import train_test_split\n",
        "from tensorflow.keras.preprocessing.image import ImageDataGenerator\n",
        "from tensorflow.keras.applications import VGG16\n",
        "from tensorflow.keras.layers import Input, GlobalAveragePooling2D, Dense\n",
        "from tensorflow.keras.models import Model\n",
        "from tensorflow.keras.optimizers import Adam\n",
        "\n",
        "# Set the path to the directory containing the dataset\n",
        "dataset_dir = '/content/main_data_croped'\n",
        "\n",
        "# Read the CSV file\n",
        "data = pd.read_csv(os.path.join(dataset_dir, '/content/drive/MyDrive/computer_vision/tfti2.csv'), usecols=[\"key\", \"class\"])\n",
        "\n",
        "# Convert the 'class' column to string\n",
        "data['class'] = data['class'].astype(str)\n",
        "\n",
        "# Filter the data to include only classes 1 and 2\n",
        "data = data[data['class'].isin(['1', '2', '3'])]\n",
        "\n",
        "# Split the data into training, validation, and testing sets\n",
        "train_data, test_data = train_test_split(data, test_size=0.2, random_state=0)\n",
        "valid_data, test_data = train_test_split(test_data, test_size=0.5, random_state=0)\n",
        "\n",
        "# Print the number of samples in each set\n",
        "print('Number of train samples:', train_data.shape[0])\n",
        "print('Number of valid samples:', valid_data.shape[0])\n",
        "print('Number of test samples:', test_data.shape[0])\n",
        "\n",
        "# Preprocess data\n",
        "train_data[\"key\"] = train_data[\"key\"].apply(lambda x: x + \".jpg\")\n",
        "valid_data[\"key\"] = valid_data[\"key\"].apply(lambda x: x + \".jpg\")\n",
        "test_data[\"key\"] = test_data[\"key\"].apply(lambda x: x + \".jpg\")\n",
        "\n",
        "BATCH_SIZE = 16\n",
        "HEIGHT = 224\n",
        "WIDTH = 224\n",
        "N_CLASSES = 3\n",
        "\n",
        "# Create data generators\n",
        "train_datagen = ImageDataGenerator(\n",
        "    rescale=1./255,\n",
        "    rotation_range=40,\n",
        "    width_shift_range=0.2,\n",
        "    height_shift_range=0.2,\n",
        "    zoom_range=0.2,\n",
        "    shear_range=0.2,\n",
        "    horizontal_flip=True,\n",
        "    vertical_flip=True\n",
        ")\n",
        "\n",
        "train_generator = train_datagen.flow_from_dataframe(\n",
        "    dataframe=train_data,\n",
        "    directory=dataset_dir,\n",
        "    x_col=\"key\",\n",
        "    y_col=\"class\",\n",
        "    class_mode=\"categorical\",\n",
        "    batch_size=BATCH_SIZE,\n",
        "    target_size=(HEIGHT, WIDTH),\n",
        "    seed=0\n",
        ")\n",
        "\n",
        "valid_datagen = ImageDataGenerator(\n",
        "    rescale=1./255,\n",
        "    rotation_range=40,\n",
        "    width_shift_range=0.2,\n",
        "    height_shift_range=0.2,\n",
        "    zoom_range=0.2,\n",
        "    shear_range=0.2,\n",
        "    horizontal_flip=True,\n",
        "    vertical_flip=True\n",
        ")\n",
        "\n",
        "valid_generator = valid_datagen.flow_from_dataframe(\n",
        "    dataframe=valid_data,\n",
        "    directory=dataset_dir,\n",
        "    x_col=\"key\",\n",
        "    y_col=\"class\",\n",
        "    class_mode=\"categorical\",\n",
        "    batch_size=BATCH_SIZE,\n",
        "    target_size=(HEIGHT, WIDTH),\n",
        "    seed=0\n",
        ")\n",
        "\n",
        "test_datagen = ImageDataGenerator(rescale=1./255)\n",
        "\n",
        "test_generator = test_datagen.flow_from_dataframe(\n",
        "    dataframe=test_data,\n",
        "    directory=dataset_dir,\n",
        "    x_col=\"key\",\n",
        "    batch_size=BATCH_SIZE,\n",
        "    class_mode=\"categorical\",\n",
        "    shuffle=False,\n",
        "    target_size=(HEIGHT, WIDTH),\n",
        "    seed=0\n",
        ")\n",
        "\n",
        "\n",
        "\n"
      ],
      "metadata": {
        "id": "3dM7fAQV7m3-",
        "outputId": "a263edd7-34fe-4855-e536-18dbe0fd260f",
        "colab": {
          "base_uri": "https://localhost:8080/"
        }
      },
      "execution_count": 4,
      "outputs": [
        {
          "output_type": "stream",
          "name": "stdout",
          "text": [
            "Number of train samples: 1195\n",
            "Number of valid samples: 149\n",
            "Number of test samples: 150\n",
            "Found 1195 validated image filenames belonging to 3 classes.\n",
            "Found 149 validated image filenames belonging to 3 classes.\n",
            "Found 150 validated image filenames belonging to 3 classes.\n"
          ]
        }
      ]
    },
    {
      "cell_type": "code",
      "source": [
        "# MobileNet\n",
        "from tensorflow.keras.applications import MobileNet\n",
        "from tensorflow.keras import layers, regularizers\n",
        "def mobile_model1(backbone , lr = 1e-4):\n",
        "  model1 = Sequential()\n",
        "  model1.add(backbone)\n",
        "  model1.add(layers.GlobalAveragePooling2D())\n",
        "  model1.add(layers.Dropout(0.5))\n",
        "  model1.add(layers.BatchNormalization())\n",
        "  model1.add(layers.Dense(N_CLASSES, activation='softmax', kernel_regularizer=regularizers.l2(0.01), name='output'))\n",
        "\n",
        "  model1.compile(\n",
        "        loss='categorical_crossentropy',\n",
        "        optimizer=Adam(learning_rate=lr),\n",
        "        metrics=['accuracy']\n",
        "    )\n",
        "\n",
        "  return model1\n",
        "\n",
        "\n",
        "mobilenet1 = MobileNet(\n",
        "    weights = 'imagenet',\n",
        "    include_top = False,\n",
        "    input_shape =(224 , 224 , 3)\n",
        ")\n",
        "#call the model\n",
        "model1 = mobile_model1(mobilenet1 , lr = 1e-4)\n",
        "model1.build((None, 224, 224, 3))\n",
        "model1.summary()"
      ],
      "metadata": {
        "id": "g54geqyA7USf",
        "outputId": "821c53b8-8d52-4f72-f63b-17b898aa7fbe",
        "colab": {
          "base_uri": "https://localhost:8080/"
        }
      },
      "execution_count": 5,
      "outputs": [
        {
          "output_type": "stream",
          "name": "stdout",
          "text": [
            "Downloading data from https://storage.googleapis.com/tensorflow/keras-applications/mobilenet/mobilenet_1_0_224_tf_no_top.h5\n",
            "17225924/17225924 [==============================] - 2s 0us/step\n",
            "Model: \"sequential\"\n",
            "_________________________________________________________________\n",
            " Layer (type)                Output Shape              Param #   \n",
            "=================================================================\n",
            " mobilenet_1.00_224 (Functi  (None, 7, 7, 1024)        3228864   \n",
            " onal)                                                           \n",
            "                                                                 \n",
            " global_average_pooling2d (  (None, 1024)              0         \n",
            " GlobalAveragePooling2D)                                         \n",
            "                                                                 \n",
            " dropout (Dropout)           (None, 1024)              0         \n",
            "                                                                 \n",
            " batch_normalization (Batch  (None, 1024)              4096      \n",
            " Normalization)                                                  \n",
            "                                                                 \n",
            " output (Dense)              (None, 3)                 3075      \n",
            "                                                                 \n",
            "=================================================================\n",
            "Total params: 3236035 (12.34 MB)\n",
            "Trainable params: 3212099 (12.25 MB)\n",
            "Non-trainable params: 23936 (93.50 KB)\n",
            "_________________________________________________________________\n"
          ]
        }
      ]
    },
    {
      "cell_type": "code",
      "execution_count": 6,
      "metadata": {
        "colab": {
          "base_uri": "https://localhost:8080/"
        },
        "id": "SUwQclDD5NCN",
        "outputId": "5e6b6803-6597-4b9a-fc14-eaf8d91ff7c3"
      },
      "outputs": [
        {
          "output_type": "stream",
          "name": "stdout",
          "text": [
            "Epoch 1/50\n",
            "75/75 - 49s - loss: 1.3491 - accuracy: 0.5063 - val_loss: 2.8987 - val_accuracy: 0.1208 - lr: 1.0000e-04 - 49s/epoch - 658ms/step\n",
            "Epoch 2/50\n",
            "75/75 - 20s - loss: 1.1293 - accuracy: 0.5833 - val_loss: 1.6583 - val_accuracy: 0.3020 - lr: 1.0000e-04 - 20s/epoch - 273ms/step\n",
            "Epoch 3/50\n",
            "75/75 - 21s - loss: 0.9383 - accuracy: 0.6594 - val_loss: 1.2715 - val_accuracy: 0.5503 - lr: 1.0000e-04 - 21s/epoch - 279ms/step\n",
            "Epoch 4/50\n",
            "75/75 - 22s - loss: 0.8897 - accuracy: 0.6745 - val_loss: 0.6963 - val_accuracy: 0.7450 - lr: 1.0000e-04 - 22s/epoch - 295ms/step\n",
            "Epoch 5/50\n",
            "75/75 - 20s - loss: 0.7709 - accuracy: 0.7113 - val_loss: 0.4468 - val_accuracy: 0.8255 - lr: 1.0000e-04 - 20s/epoch - 268ms/step\n",
            "Epoch 6/50\n",
            "75/75 - 23s - loss: 0.7364 - accuracy: 0.7456 - val_loss: 0.3888 - val_accuracy: 0.8993 - lr: 1.0000e-04 - 23s/epoch - 312ms/step\n",
            "Epoch 7/50\n",
            "75/75 - 23s - loss: 0.6670 - accuracy: 0.7757 - val_loss: 0.4696 - val_accuracy: 0.8591 - lr: 1.0000e-04 - 23s/epoch - 302ms/step\n",
            "Epoch 8/50\n",
            "75/75 - 22s - loss: 0.5994 - accuracy: 0.7908 - val_loss: 0.4848 - val_accuracy: 0.8792 - lr: 1.0000e-04 - 22s/epoch - 295ms/step\n",
            "Epoch 9/50\n",
            "75/75 - 20s - loss: 0.5534 - accuracy: 0.8276 - val_loss: 0.4964 - val_accuracy: 0.8591 - lr: 1.0000e-04 - 20s/epoch - 270ms/step\n",
            "Epoch 10/50\n",
            "75/75 - 22s - loss: 0.5456 - accuracy: 0.8226 - val_loss: 0.3742 - val_accuracy: 0.9060 - lr: 1.0000e-04 - 22s/epoch - 294ms/step\n",
            "Epoch 11/50\n",
            "75/75 - 23s - loss: 0.5226 - accuracy: 0.8192 - val_loss: 0.4792 - val_accuracy: 0.8658 - lr: 1.0000e-04 - 23s/epoch - 300ms/step\n",
            "Epoch 12/50\n",
            "75/75 - 22s - loss: 0.5300 - accuracy: 0.8326 - val_loss: 0.5263 - val_accuracy: 0.8054 - lr: 1.0000e-04 - 22s/epoch - 298ms/step\n",
            "Epoch 13/50\n",
            "75/75 - 21s - loss: 0.5019 - accuracy: 0.8410 - val_loss: 0.5532 - val_accuracy: 0.8255 - lr: 1.0000e-04 - 21s/epoch - 275ms/step\n",
            "Epoch 14/50\n",
            "75/75 - 21s - loss: 0.4955 - accuracy: 0.8410 - val_loss: 0.3868 - val_accuracy: 0.8926 - lr: 1.0000e-04 - 21s/epoch - 279ms/step\n",
            "Epoch 15/50\n",
            "\n",
            "Epoch 15: ReduceLROnPlateau reducing learning rate to 9.999999747378752e-06.\n",
            "75/75 - 22s - loss: 0.4288 - accuracy: 0.8644 - val_loss: 0.5070 - val_accuracy: 0.8725 - lr: 1.0000e-04 - 22s/epoch - 295ms/step\n",
            "Epoch 16/50\n",
            "75/75 - 20s - loss: 0.4325 - accuracy: 0.8628 - val_loss: 0.4363 - val_accuracy: 0.8859 - lr: 1.0000e-05 - 20s/epoch - 268ms/step\n",
            "Epoch 17/50\n",
            "75/75 - 22s - loss: 0.4038 - accuracy: 0.8736 - val_loss: 0.4416 - val_accuracy: 0.8926 - lr: 1.0000e-05 - 22s/epoch - 293ms/step\n",
            "Epoch 18/50\n",
            "75/75 - 22s - loss: 0.4408 - accuracy: 0.8669 - val_loss: 0.3931 - val_accuracy: 0.8725 - lr: 1.0000e-05 - 22s/epoch - 294ms/step\n",
            "Epoch 19/50\n",
            "75/75 - 20s - loss: 0.4125 - accuracy: 0.8711 - val_loss: 0.4858 - val_accuracy: 0.8658 - lr: 1.0000e-05 - 20s/epoch - 268ms/step\n",
            "Epoch 20/50\n",
            "\n",
            "Epoch 20: ReduceLROnPlateau reducing learning rate to 9.999999747378752e-07.\n",
            "75/75 - 22s - loss: 0.4099 - accuracy: 0.8686 - val_loss: 0.4454 - val_accuracy: 0.9060 - lr: 1.0000e-05 - 22s/epoch - 294ms/step\n",
            "Epoch 21/50\n",
            "75/75 - 22s - loss: 0.4042 - accuracy: 0.8745 - val_loss: 0.3867 - val_accuracy: 0.8725 - lr: 1.0000e-06 - 22s/epoch - 294ms/step\n",
            "Epoch 22/50\n",
            "75/75 - 23s - loss: 0.3739 - accuracy: 0.8728 - val_loss: 0.4023 - val_accuracy: 0.8993 - lr: 1.0000e-06 - 23s/epoch - 303ms/step\n",
            "Epoch 23/50\n",
            "75/75 - 22s - loss: 0.4014 - accuracy: 0.8603 - val_loss: 0.4249 - val_accuracy: 0.8725 - lr: 1.0000e-06 - 22s/epoch - 295ms/step\n",
            "Epoch 24/50\n",
            "75/75 - 20s - loss: 0.3981 - accuracy: 0.8686 - val_loss: 0.4204 - val_accuracy: 0.8792 - lr: 1.0000e-06 - 20s/epoch - 272ms/step\n",
            "Epoch 25/50\n",
            "\n",
            "Epoch 25: ReduceLROnPlateau reducing learning rate to 1e-07.\n",
            "75/75 - 22s - loss: 0.4297 - accuracy: 0.8586 - val_loss: 0.4543 - val_accuracy: 0.8792 - lr: 1.0000e-06 - 22s/epoch - 297ms/step\n",
            "Epoch 26/50\n",
            "75/75 - 22s - loss: 0.4270 - accuracy: 0.8577 - val_loss: 0.3860 - val_accuracy: 0.9128 - lr: 1.0000e-07 - 22s/epoch - 295ms/step\n",
            "Epoch 27/50\n",
            "75/75 - 20s - loss: 0.4055 - accuracy: 0.8661 - val_loss: 0.3659 - val_accuracy: 0.8993 - lr: 1.0000e-07 - 20s/epoch - 267ms/step\n",
            "Epoch 28/50\n",
            "75/75 - 22s - loss: 0.4120 - accuracy: 0.8703 - val_loss: 0.4499 - val_accuracy: 0.8658 - lr: 1.0000e-07 - 22s/epoch - 291ms/step\n",
            "Epoch 29/50\n",
            "75/75 - 20s - loss: 0.4060 - accuracy: 0.8711 - val_loss: 0.3927 - val_accuracy: 0.8993 - lr: 1.0000e-07 - 20s/epoch - 268ms/step\n",
            "Epoch 30/50\n",
            "75/75 - 22s - loss: 0.3972 - accuracy: 0.8720 - val_loss: 0.4232 - val_accuracy: 0.8859 - lr: 1.0000e-07 - 22s/epoch - 292ms/step\n",
            "Epoch 31/50\n",
            "75/75 - 22s - loss: 0.4156 - accuracy: 0.8787 - val_loss: 0.3586 - val_accuracy: 0.9060 - lr: 1.0000e-07 - 22s/epoch - 293ms/step\n",
            "Epoch 32/50\n",
            "75/75 - 22s - loss: 0.3826 - accuracy: 0.8728 - val_loss: 0.3545 - val_accuracy: 0.8792 - lr: 1.0000e-07 - 22s/epoch - 293ms/step\n",
            "Epoch 33/50\n",
            "75/75 - 22s - loss: 0.4250 - accuracy: 0.8695 - val_loss: 0.3925 - val_accuracy: 0.8725 - lr: 1.0000e-07 - 22s/epoch - 291ms/step\n",
            "Epoch 34/50\n",
            "75/75 - 22s - loss: 0.4164 - accuracy: 0.8795 - val_loss: 0.3840 - val_accuracy: 0.8926 - lr: 1.0000e-07 - 22s/epoch - 292ms/step\n",
            "Epoch 35/50\n",
            "75/75 - 20s - loss: 0.4412 - accuracy: 0.8686 - val_loss: 0.4467 - val_accuracy: 0.8456 - lr: 1.0000e-07 - 20s/epoch - 269ms/step\n",
            "Epoch 36/50\n",
            "75/75 - 22s - loss: 0.4294 - accuracy: 0.8711 - val_loss: 0.4438 - val_accuracy: 0.8725 - lr: 1.0000e-07 - 22s/epoch - 291ms/step\n",
            "Epoch 37/50\n",
            "75/75 - 20s - loss: 0.3746 - accuracy: 0.8803 - val_loss: 0.4104 - val_accuracy: 0.8658 - lr: 1.0000e-07 - 20s/epoch - 268ms/step\n",
            "Epoch 38/50\n",
            "75/75 - 23s - loss: 0.3878 - accuracy: 0.8711 - val_loss: 0.3902 - val_accuracy: 0.8792 - lr: 1.0000e-07 - 23s/epoch - 303ms/step\n",
            "Epoch 39/50\n",
            "75/75 - 22s - loss: 0.3813 - accuracy: 0.8879 - val_loss: 0.3552 - val_accuracy: 0.8591 - lr: 1.0000e-07 - 22s/epoch - 292ms/step\n",
            "Epoch 40/50\n",
            "75/75 - 20s - loss: 0.4258 - accuracy: 0.8711 - val_loss: 0.4222 - val_accuracy: 0.8926 - lr: 1.0000e-07 - 20s/epoch - 267ms/step\n",
            "Epoch 41/50\n",
            "75/75 - 22s - loss: 0.3828 - accuracy: 0.8929 - val_loss: 0.4739 - val_accuracy: 0.8859 - lr: 1.0000e-07 - 22s/epoch - 293ms/step\n",
            "Epoch 42/50\n",
            "75/75 - 20s - loss: 0.4326 - accuracy: 0.8628 - val_loss: 0.4361 - val_accuracy: 0.8859 - lr: 1.0000e-07 - 20s/epoch - 270ms/step\n",
            "Epoch 43/50\n",
            "75/75 - 22s - loss: 0.4117 - accuracy: 0.8653 - val_loss: 0.3792 - val_accuracy: 0.8993 - lr: 1.0000e-07 - 22s/epoch - 296ms/step\n",
            "Epoch 44/50\n",
            "75/75 - 20s - loss: 0.3960 - accuracy: 0.8711 - val_loss: 0.4071 - val_accuracy: 0.8725 - lr: 1.0000e-07 - 20s/epoch - 267ms/step\n",
            "Epoch 45/50\n",
            "75/75 - 22s - loss: 0.4110 - accuracy: 0.8787 - val_loss: 0.4391 - val_accuracy: 0.8859 - lr: 1.0000e-07 - 22s/epoch - 294ms/step\n",
            "Epoch 46/50\n",
            "75/75 - 22s - loss: 0.3844 - accuracy: 0.8778 - val_loss: 0.4310 - val_accuracy: 0.8725 - lr: 1.0000e-07 - 22s/epoch - 292ms/step\n",
            "Epoch 47/50\n",
            "75/75 - 22s - loss: 0.4079 - accuracy: 0.8669 - val_loss: 0.3840 - val_accuracy: 0.8926 - lr: 1.0000e-07 - 22s/epoch - 291ms/step\n",
            "Epoch 48/50\n",
            "75/75 - 20s - loss: 0.3890 - accuracy: 0.8636 - val_loss: 0.4231 - val_accuracy: 0.8859 - lr: 1.0000e-07 - 20s/epoch - 268ms/step\n",
            "Epoch 49/50\n",
            "75/75 - 22s - loss: 0.4139 - accuracy: 0.8703 - val_loss: 0.3626 - val_accuracy: 0.9060 - lr: 1.0000e-07 - 22s/epoch - 292ms/step\n",
            "Epoch 50/50\n",
            "75/75 - 22s - loss: 0.4254 - accuracy: 0.8678 - val_loss: 0.4386 - val_accuracy: 0.8591 - lr: 1.0000e-07 - 22s/epoch - 292ms/step\n"
          ]
        }
      ],
      "source": [
        "# Training the teacher model with Resnet50\n",
        "# Train the teacher model as usual\n",
        "reduce_lr = ReduceLROnPlateau(monitor='val_loss', factor=0.1, patience=5, verbose=1, min_lr=1e-7)\n",
        "epochs = 50\n",
        "batch_size = 32\n",
        "teacher_his = model1.fit(train_generator,\n",
        "          batch_size=batch_size,\n",
        "          epochs=epochs,\n",
        "          verbose=2,\n",
        "          validation_data=valid_generator,\n",
        "                           callbacks=[reduce_lr])"
      ]
    },
    {
      "cell_type": "code",
      "execution_count": 7,
      "metadata": {
        "colab": {
          "base_uri": "https://localhost:8080/",
          "height": 524
        },
        "id": "tDIX0Rtv8ua3",
        "outputId": "99918ed5-2b6d-4641-fbf7-62b8eb80202d"
      },
      "outputs": [
        {
          "output_type": "display_data",
          "data": {
            "text/plain": [
              "<Figure size 800x550 with 1 Axes>"
            ],
            "image/png": "[encoded data removed]"
          },
          "metadata": {}
        }
      ],
      "source": [
        "#https://machinelearningmastery.com/display-deep-learning-model-training-history-in-keras/\n",
        "# summarize history for accuracy\n",
        "plt.plot(teacher_his.history['accuracy'],)\n",
        "plt.plot(teacher_his.history['val_accuracy'])\n",
        "plt.title('model accuracy')\n",
        "plt.ylabel('accuracy')\n",
        "plt.xlabel('epoch')\n",
        "plt.legend(['train', 'val'], loc='lower right')\n",
        "plt.show()"
      ]
    },
    {
      "cell_type": "code",
      "execution_count": 8,
      "metadata": {
        "colab": {
          "base_uri": "https://localhost:8080/",
          "height": 524
        },
        "id": "YKqJbiNo8yRW",
        "outputId": "efafe77f-63d5-4b56-c255-7a0bcc1c13ad"
      },
      "outputs": [
        {
          "output_type": "display_data",
          "data": {
            "text/plain": [
              "<Figure size 800x550 with 1 Axes>"
            ],
            "image/png": "[encoded data removed]"
          },
          "metadata": {}
        }
      ],
      "source": [
        "#https://machinelearningmastery.com/display-deep-learning-model-training-history-in-keras/\n",
        "# summarize history for accuracy\n",
        "plt.plot(teacher_his.history['loss'])\n",
        "plt.plot(teacher_his.history['val_loss'])\n",
        "plt.title('model Loss')\n",
        "plt.ylabel('Loss')\n",
        "plt.xlabel('epoch')\n",
        "plt.legend(['train', 'val'], loc='lower left')\n",
        "plt.show()"
      ]
    },
    {
      "cell_type": "code",
      "execution_count": 9,
      "metadata": {
        "colab": {
          "base_uri": "https://localhost:8080/"
        },
        "id": "5hwl2z248zXV",
        "outputId": "84bf9d28-1705-42d2-f94d-5e0424986ad9"
      },
      "outputs": [
        {
          "output_type": "stream",
          "name": "stdout",
          "text": [
            "Test loss: 0.5466015934944153\n",
            "Test accuracy: 0.8333333134651184\n",
            "\n",
            "Time:  0.8295308360000035 sec\n"
          ]
        }
      ],
      "source": [
        "# Evaluate the model on the test set\n",
        "import timeit\n",
        "\n",
        "start = timeit.default_timer()\n",
        "test_loss, test_acc = model1.evaluate(\n",
        "    test_generator,\n",
        "    verbose=0\n",
        ")\n",
        "\n",
        "print('Test loss:', test_loss)\n",
        "print('Test accuracy:', test_acc)\n",
        "stop = timeit.default_timer()\n",
        "print('\\nTime: ',stop - start,'sec')"
      ]
    },
    {
      "cell_type": "code",
      "execution_count": 10,
      "metadata": {
        "colab": {
          "base_uri": "https://localhost:8080/"
        },
        "id": "_0IzLrax9AAp",
        "outputId": "a1d89498-5723-4511-8434-013ed0f1864d"
      },
      "outputs": [
        {
          "output_type": "stream",
          "name": "stdout",
          "text": [
            "10/10 [==============================] - 2s 72ms/step\n",
            "              precision    recall  f1-score   support\n",
            "\n",
            "           1       0.87      0.94      0.91       103\n",
            "           2       0.85      0.59      0.70        37\n",
            "           3       0.46      0.60      0.52        10\n",
            "\n",
            "    accuracy                           0.83       150\n",
            "   macro avg       0.73      0.71      0.71       150\n",
            "weighted avg       0.84      0.83      0.83       150\n",
            "\n"
          ]
        }
      ],
      "source": [
        "from sklearn.metrics import classification_report\n",
        "\n",
        "# Assuming you have a model named 'model_vgg2' and a test generator named 'test_generator'\n",
        "# Generate predictions for the test data\n",
        "y_pred = model1.predict(test_generator)\n",
        "\n",
        "# Convert predictions from probabilities to class labels\n",
        "y_pred_labels = y_pred.argmax(axis=1)\n",
        "\n",
        "# Get the true labels from the test generator\n",
        "y_true = test_generator.classes\n",
        "\n",
        "# Get the class labels\n",
        "class_labels = list(test_generator.class_indices.keys())\n",
        "\n",
        "# Generate the classification report\n",
        "report = classification_report(y_true, y_pred_labels, target_names=class_labels)\n",
        "\n",
        "# Print the classification report\n",
        "print(report)"
      ]
    }
  ],
  "metadata": {
    "accelerator": "GPU",
    "colab": {
      "name": "WithoutKD_MobileNet.ipynb",
      "provenance": [],
      "include_colab_link": true
    },
    "kernelspec": {
      "display_name": "Python 3",
      "name": "python3"
    },
    "language_info": {
      "name": "python"
    }
  },
  "nbformat": 4,
  "nbformat_minor": 0
}