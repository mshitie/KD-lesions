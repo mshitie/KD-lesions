{
  "nbformat": 4,
  "nbformat_minor": 0,
  "metadata": {
    "colab": {
      "name": "WithoutKD_InceptionV3.ipynb",
      "provenance": [],
      "include_colab_link": true
    },
    "kernelspec": {
      "name": "python3",
      "display_name": "Python 3"
    },
    "language_info": {
      "name": "python"
    },
    "accelerator": "GPU"
  },
  "cells": [
    {
      "cell_type": "markdown",
      "metadata": {
        "id": "view-in-github",
        "colab_type": "text"
      },
      "source": [
        "<a href=\"https://colab.research.google.com/github/mshitie/MS_KD/blob/main/WithoutKD/WithoutKD_InceptionV3.ipynb\" target=\"_parent\"><img src=\"https://colab.research.google.com/assets/colab-badge.svg\" alt=\"Open In Colab\"/></a>"
      ]
    },
    {
      "cell_type": "code",
      "metadata": {
        "colab": {
          "base_uri": "https://localhost:8080/"
        },
        "id": "14Isk6TSpDxz",
        "outputId": "090d62c5-c24c-4a91-a574-c0e18285c480"
      },
      "source": [
        "\n",
        "!pip install rarfile\n",
        "\n",
        "from google.colab import drive\n",
        "import rarfile\n",
        "import os\n",
        "\n",
        "# Mount Google Drive\n",
        "drive.mount('/content/drive')\n",
        "\n",
        "# Path to the .rar file in Google Drive\n",
        "rar_path = '/content/drive/MyDrive/computer_vision/main_data_croped.rar'\n",
        "\n",
        "# Destination folder to extract the contents\n",
        "destination_folder = '/content'\n",
        "\n",
        "# Create the destination folder if it doesn't exist\n",
        "if not os.path.exists(destination_folder):\n",
        "    os.makedirs(destination_folder)\n",
        "\n",
        "# Extract the .rar file\n",
        "with rarfile.RarFile(rar_path, 'r') as rar_ref:\n",
        "    rar_ref.extractall(destination_folder)\n",
        "\n",
        "print(\"Extraction completed.\")"
      ],
      "execution_count": 1,
      "outputs": [
        {
          "output_type": "stream",
          "name": "stdout",
          "text": [
            "Collecting rarfile\n",
            "  Downloading rarfile-4.1-py3-none-any.whl (28 kB)\n",
            "Installing collected packages: rarfile\n",
            "Successfully installed rarfile-4.1\n",
            "Mounted at /content/drive\n",
            "Extraction completed.\n"
          ]
        }
      ]
    },
    {
      "cell_type": "code",
      "metadata": {
        "id": "GynY_VyvpreL",
        "colab": {
          "base_uri": "https://localhost:8080/"
        },
        "outputId": "85a28058-dc73-4109-8827-a7127ffe41af"
      },
      "source": [
        "import os\n",
        "import cv2\n",
        "from PIL import Image\n",
        "import numpy as np\n",
        "import scipy\n",
        "import pandas as pd\n",
        "import matplotlib.pyplot as plt\n",
        "plt.style.use('seaborn')\n",
        "\n",
        "from sklearn import metrics\n",
        "from sklearn.model_selection import train_test_split\n",
        "from sklearn.metrics import classification_report\n",
        "from sklearn.metrics import auc, roc_curve\n",
        "from tqdm import tqdm\n",
        "\n",
        "import time"
      ],
      "execution_count": 2,
      "outputs": [
        {
          "output_type": "stream",
          "name": "stderr",
          "text": [
            "<ipython-input-2-c760a79cdaf2>:8: MatplotlibDeprecationWarning: The seaborn styles shipped by Matplotlib are deprecated since 3.6, as they no longer correspond to the styles shipped by seaborn. However, they will remain available as 'seaborn-v0_8-<style>'. Alternatively, directly use the seaborn API instead.\n",
            "  plt.style.use('seaborn')\n"
          ]
        }
      ]
    },
    {
      "cell_type": "code",
      "metadata": {
        "id": "4wcJK3gwptPu"
      },
      "source": [
        "# Keras & Tensorflow\n",
        "import keras\n",
        "import tensorflow as tf\n",
        "from keras import layers\n",
        "from keras.models import Model\n",
        "from keras.layers import Lambda, concatenate\n",
        "from tensorflow.keras.utils import to_categorical\n",
        "from keras.preprocessing.image import ImageDataGenerator\n",
        "from keras.models import Sequential\n",
        "from keras.layers import GlobalAveragePooling2D , Conv2D , MaxPooling2D\n",
        "from keras.layers import  Dropout , BatchNormalization , Dense\n",
        "from tensorflow.keras.optimizers import Adam\n",
        "from tensorflow.keras.applications import ResNet50\n",
        "from keras.callbacks import Callback , ReduceLROnPlateau , ModelCheckpoint\n",
        "from sklearn.metrics import cohen_kappa_score, accuracy_score\n",
        "from keras.losses import categorical_crossentropy as logloss\n",
        "from keras.metrics import categorical_accuracy"
      ],
      "execution_count": 3,
      "outputs": []
    },
    {
      "cell_type": "code",
      "metadata": {
        "colab": {
          "base_uri": "https://localhost:8080/"
        },
        "id": "wM3jKNu3pvAi",
        "outputId": "75ebcb5f-00c2-46ee-ef53-53eda77d5e11"
      },
      "source": [
        "\n",
        "# trachoma main dataset binary image classification\n",
        "import os\n",
        "import random\n",
        "import pandas as pd\n",
        "import numpy as np\n",
        "from sklearn.model_selection import train_test_split\n",
        "from tensorflow.keras.preprocessing.image import ImageDataGenerator\n",
        "from tensorflow.keras.applications import VGG16\n",
        "from tensorflow.keras.layers import Input, GlobalAveragePooling2D, Dense\n",
        "from tensorflow.keras.models import Model\n",
        "from tensorflow.keras.optimizers import Adam\n",
        "\n",
        "# Set the path to the directory containing the dataset\n",
        "dataset_dir = '/content/main_data_croped'\n",
        "\n",
        "# Read the CSV file\n",
        "data = pd.read_csv(os.path.join(dataset_dir, '/content/drive/MyDrive/computer_vision/tfti2.csv'), usecols=[\"key\", \"class\"])\n",
        "\n",
        "# Convert the 'class' column to string\n",
        "data['class'] = data['class'].astype(str)\n",
        "\n",
        "# Filter the data to include only classes 1 and 2\n",
        "data = data[data['class'].isin(['1', '2', '3'])]\n",
        "\n",
        "# Split the data into training, validation, and testing sets\n",
        "train_data, test_data = train_test_split(data, test_size=0.2, random_state=0)\n",
        "valid_data, test_data = train_test_split(test_data, test_size=0.5, random_state=0)\n",
        "\n",
        "# Print the number of samples in each set\n",
        "print('Number of train samples:', train_data.shape[0])\n",
        "print('Number of valid samples:', valid_data.shape[0])\n",
        "print('Number of test samples:', test_data.shape[0])\n",
        "\n",
        "# Preprocess data\n",
        "train_data[\"key\"] = train_data[\"key\"].apply(lambda x: x + \".jpg\")\n",
        "valid_data[\"key\"] = valid_data[\"key\"].apply(lambda x: x + \".jpg\")\n",
        "test_data[\"key\"] = test_data[\"key\"].apply(lambda x: x + \".jpg\")\n",
        "\n",
        "BATCH_SIZE = 16\n",
        "HEIGHT = 224\n",
        "WIDTH = 224\n",
        "N_CLASSES = 3\n",
        "\n",
        "# Create data generators\n",
        "train_datagen = ImageDataGenerator(\n",
        "    rescale=1./255,\n",
        "    rotation_range=40,\n",
        "    width_shift_range=0.2,\n",
        "    height_shift_range=0.2,\n",
        "    zoom_range=0.2,\n",
        "    shear_range=0.2,\n",
        "    horizontal_flip=True,\n",
        "    vertical_flip=True\n",
        ")\n",
        "\n",
        "train_generator = train_datagen.flow_from_dataframe(\n",
        "    dataframe=train_data,\n",
        "    directory=dataset_dir,\n",
        "    x_col=\"key\",\n",
        "    y_col=\"class\",\n",
        "    class_mode=\"categorical\",\n",
        "    batch_size=BATCH_SIZE,\n",
        "    target_size=(HEIGHT, WIDTH),\n",
        "    seed=0\n",
        ")\n",
        "\n",
        "valid_datagen = ImageDataGenerator(\n",
        "    rescale=1./255,\n",
        "    rotation_range=40,\n",
        "    width_shift_range=0.2,\n",
        "    height_shift_range=0.2,\n",
        "    zoom_range=0.2,\n",
        "    shear_range=0.2,\n",
        "    horizontal_flip=True,\n",
        "    vertical_flip=True\n",
        ")\n",
        "\n",
        "valid_generator = valid_datagen.flow_from_dataframe(\n",
        "    dataframe=valid_data,\n",
        "    directory=dataset_dir,\n",
        "    x_col=\"key\",\n",
        "    y_col=\"class\",\n",
        "    class_mode=\"categorical\",\n",
        "    batch_size=BATCH_SIZE,\n",
        "    target_size=(HEIGHT, WIDTH),\n",
        "    seed=0\n",
        ")\n",
        "\n",
        "test_datagen = ImageDataGenerator(rescale=1./255)\n",
        "\n",
        "test_generator = test_datagen.flow_from_dataframe(\n",
        "    dataframe=test_data,\n",
        "    directory=dataset_dir,\n",
        "    x_col=\"key\",\n",
        "    batch_size=BATCH_SIZE,\n",
        "    class_mode=\"categorical\",\n",
        "    shuffle=False,\n",
        "    target_size=(HEIGHT, WIDTH),\n",
        "    seed=0\n",
        ")\n",
        "\n",
        "\n",
        "\n"
      ],
      "execution_count": 4,
      "outputs": [
        {
          "output_type": "stream",
          "name": "stdout",
          "text": [
            "Number of train samples: 1195\n",
            "Number of valid samples: 149\n",
            "Number of test samples: 150\n",
            "Found 1195 validated image filenames belonging to 3 classes.\n",
            "Found 149 validated image filenames belonging to 3 classes.\n",
            "Found 150 validated image filenames belonging to 3 classes.\n"
          ]
        }
      ]
    },
    {
      "cell_type": "code",
      "metadata": {
        "colab": {
          "base_uri": "https://localhost:8080/"
        },
        "id": "C46ouvGNp8SS",
        "outputId": "29d29824-980a-4779-ab2a-feb6c5fb7077"
      },
      "source": [
        "from tensorflow.keras.applications import InceptionV3\n",
        "from tensorflow.keras import layers, regularizers\n",
        "\n",
        "def inceptionV3_model(backbone , lr = 1e-4):\n",
        "  modelInceptionV3 = Sequential()\n",
        "  modelInceptionV3.add(backbone)\n",
        "  modelInceptionV3.add(layers.GlobalAveragePooling2D())\n",
        "  modelInceptionV3.add(layers.Dropout(0.5))\n",
        "  modelInceptionV3.add(layers.BatchNormalization())\n",
        "  modelInceptionV3.add(layers.Dense(2 , activation='softmax'))\n",
        "  modelInceptionV3.add(layers.Dense(N_CLASSES, activation='softmax', kernel_regularizer=regularizers.l2(0.01), name='output'))\n",
        "\n",
        "  modelInceptionV3.compile(\n",
        "        loss='categorical_crossentropy',\n",
        "        optimizer=Adam(learning_rate=lr),\n",
        "        metrics=['accuracy']\n",
        "    )\n",
        "\n",
        "  return modelInceptionV3\n",
        "\n",
        "\n",
        "inceptionV3 = InceptionV3(\n",
        "    weights = 'imagenet',\n",
        "    include_top = False,\n",
        "    input_shape =(224 , 224 , 3)\n",
        ")\n",
        "# call the model\n",
        "modelInceptionV3 = inceptionV3_model(inceptionV3 , lr = 1e-4)\n",
        "modelInceptionV3.build((None, 224, 224, 3))\n",
        "modelInceptionV3.summary()"
      ],
      "execution_count": 5,
      "outputs": [
        {
          "output_type": "stream",
          "name": "stdout",
          "text": [
            "Downloading data from https://storage.googleapis.com/tensorflow/keras-applications/inception_v3/inception_v3_weights_tf_dim_ordering_tf_kernels_notop.h5\n",
            "87910968/87910968 [==============================] - 0s 0us/step\n",
            "Model: \"sequential\"\n",
            "_________________________________________________________________\n",
            " Layer (type)                Output Shape              Param #   \n",
            "=================================================================\n",
            " inception_v3 (Functional)   (None, 5, 5, 2048)        21802784  \n",
            "                                                                 \n",
            " global_average_pooling2d (  (None, 2048)              0         \n",
            " GlobalAveragePooling2D)                                         \n",
            "                                                                 \n",
            " dropout (Dropout)           (None, 2048)              0         \n",
            "                                                                 \n",
            " batch_normalization_94 (Ba  (None, 2048)              8192      \n",
            " tchNormalization)                                               \n",
            "                                                                 \n",
            " dense (Dense)               (None, 2)                 4098      \n",
            "                                                                 \n",
            " output (Dense)              (None, 3)                 9         \n",
            "                                                                 \n",
            "=================================================================\n",
            "Total params: 21815083 (83.22 MB)\n",
            "Trainable params: 21776555 (83.07 MB)\n",
            "Non-trainable params: 38528 (150.50 KB)\n",
            "_________________________________________________________________\n"
          ]
        }
      ]
    },
    {
      "cell_type": "code",
      "metadata": {
        "colab": {
          "base_uri": "https://localhost:8080/"
        },
        "id": "2JL5BU1CqBEt",
        "outputId": "741e62f7-f2d6-4888-b34f-39928c84661d"
      },
      "source": [
        "# Train the student model with MobileNet\n",
        "reduce_lr = ReduceLROnPlateau(monitor='val_loss', factor=0.1, patience=5, verbose=1, min_lr=1e-7)\n",
        "epochs = 50\n",
        "batch_size = 32\n",
        "student_his_inceptionV3 = modelInceptionV3.fit(train_generator,\n",
        "          batch_size=batch_size,\n",
        "          epochs=epochs,\n",
        "          verbose=2,\n",
        "          validation_data=valid_generator,\n",
        "                           callbacks=[reduce_lr])"
      ],
      "execution_count": 6,
      "outputs": [
        {
          "output_type": "stream",
          "name": "stdout",
          "text": [
            "Epoch 1/50\n",
            "75/75 - 77s - loss: 0.9331 - accuracy: 0.6854 - val_loss: 1.1495 - val_accuracy: 0.6510 - lr: 1.0000e-04 - 77s/epoch - 1s/step\n",
            "Epoch 2/50\n",
            "75/75 - 21s - loss: 0.8795 - accuracy: 0.6854 - val_loss: 0.9218 - val_accuracy: 0.6510 - lr: 1.0000e-04 - 21s/epoch - 276ms/step\n",
            "Epoch 3/50\n",
            "75/75 - 22s - loss: 0.8634 - accuracy: 0.6854 - val_loss: 0.9685 - val_accuracy: 0.6510 - lr: 1.0000e-04 - 22s/epoch - 298ms/step\n",
            "Epoch 4/50\n",
            "75/75 - 21s - loss: 0.8568 - accuracy: 0.6854 - val_loss: 0.9332 - val_accuracy: 0.6510 - lr: 1.0000e-04 - 21s/epoch - 285ms/step\n",
            "Epoch 5/50\n",
            "75/75 - 22s - loss: 0.8594 - accuracy: 0.6854 - val_loss: 0.8746 - val_accuracy: 0.6510 - lr: 1.0000e-04 - 22s/epoch - 297ms/step\n",
            "Epoch 6/50\n",
            "75/75 - 23s - loss: 0.8437 - accuracy: 0.6854 - val_loss: 0.8445 - val_accuracy: 0.6510 - lr: 1.0000e-04 - 23s/epoch - 311ms/step\n",
            "Epoch 7/50\n",
            "75/75 - 23s - loss: 0.8443 - accuracy: 0.6854 - val_loss: 0.8869 - val_accuracy: 0.6510 - lr: 1.0000e-04 - 23s/epoch - 301ms/step\n",
            "Epoch 8/50\n",
            "75/75 - 21s - loss: 0.8408 - accuracy: 0.6854 - val_loss: 0.8498 - val_accuracy: 0.6510 - lr: 1.0000e-04 - 21s/epoch - 280ms/step\n",
            "Epoch 9/50\n",
            "75/75 - 23s - loss: 0.8294 - accuracy: 0.6854 - val_loss: 0.8419 - val_accuracy: 0.6510 - lr: 1.0000e-04 - 23s/epoch - 302ms/step\n",
            "Epoch 10/50\n",
            "75/75 - 21s - loss: 0.8338 - accuracy: 0.6854 - val_loss: 0.8792 - val_accuracy: 0.6510 - lr: 1.0000e-04 - 21s/epoch - 278ms/step\n",
            "Epoch 11/50\n",
            "75/75 - 22s - loss: 0.8379 - accuracy: 0.6854 - val_loss: 0.8563 - val_accuracy: 0.6510 - lr: 1.0000e-04 - 22s/epoch - 295ms/step\n",
            "Epoch 12/50\n",
            "75/75 - 22s - loss: 0.8346 - accuracy: 0.6854 - val_loss: 0.8555 - val_accuracy: 0.6510 - lr: 1.0000e-04 - 22s/epoch - 299ms/step\n",
            "Epoch 13/50\n",
            "75/75 - 21s - loss: 0.8283 - accuracy: 0.6854 - val_loss: 0.8488 - val_accuracy: 0.6510 - lr: 1.0000e-04 - 21s/epoch - 284ms/step\n",
            "Epoch 14/50\n",
            "\n",
            "Epoch 14: ReduceLROnPlateau reducing learning rate to 9.999999747378752e-06.\n",
            "75/75 - 21s - loss: 0.8361 - accuracy: 0.6854 - val_loss: 0.8607 - val_accuracy: 0.6510 - lr: 1.0000e-04 - 21s/epoch - 277ms/step\n",
            "Epoch 15/50\n",
            "75/75 - 22s - loss: 0.8263 - accuracy: 0.6854 - val_loss: 0.8602 - val_accuracy: 0.6510 - lr: 1.0000e-05 - 22s/epoch - 294ms/step\n",
            "Epoch 16/50\n",
            "75/75 - 24s - loss: 0.8249 - accuracy: 0.6854 - val_loss: 0.8566 - val_accuracy: 0.6510 - lr: 1.0000e-05 - 24s/epoch - 320ms/step\n",
            "Epoch 17/50\n",
            "75/75 - 21s - loss: 0.8233 - accuracy: 0.6854 - val_loss: 0.8523 - val_accuracy: 0.6510 - lr: 1.0000e-05 - 21s/epoch - 277ms/step\n",
            "Epoch 18/50\n",
            "75/75 - 22s - loss: 0.8171 - accuracy: 0.6854 - val_loss: 0.8382 - val_accuracy: 0.6510 - lr: 1.0000e-05 - 22s/epoch - 288ms/step\n",
            "Epoch 19/50\n",
            "75/75 - 22s - loss: 0.8159 - accuracy: 0.6854 - val_loss: 0.8178 - val_accuracy: 0.6510 - lr: 1.0000e-05 - 22s/epoch - 289ms/step\n",
            "Epoch 20/50\n",
            "75/75 - 22s - loss: 0.8111 - accuracy: 0.6854 - val_loss: 0.8468 - val_accuracy: 0.6510 - lr: 1.0000e-05 - 22s/epoch - 300ms/step\n",
            "Epoch 21/50\n",
            "75/75 - 21s - loss: 0.8058 - accuracy: 0.6854 - val_loss: 0.8416 - val_accuracy: 0.6510 - lr: 1.0000e-05 - 21s/epoch - 277ms/step\n",
            "Epoch 22/50\n",
            "75/75 - 23s - loss: 0.8038 - accuracy: 0.6854 - val_loss: 0.8290 - val_accuracy: 0.6510 - lr: 1.0000e-05 - 23s/epoch - 305ms/step\n",
            "Epoch 23/50\n",
            "75/75 - 23s - loss: 0.8059 - accuracy: 0.6854 - val_loss: 0.8322 - val_accuracy: 0.6510 - lr: 1.0000e-05 - 23s/epoch - 300ms/step\n",
            "Epoch 24/50\n",
            "\n",
            "Epoch 24: ReduceLROnPlateau reducing learning rate to 9.999999747378752e-07.\n",
            "75/75 - 22s - loss: 0.8088 - accuracy: 0.6854 - val_loss: 0.8274 - val_accuracy: 0.6510 - lr: 1.0000e-05 - 22s/epoch - 287ms/step\n",
            "Epoch 25/50\n",
            "75/75 - 22s - loss: 0.8042 - accuracy: 0.6854 - val_loss: 0.8312 - val_accuracy: 0.6510 - lr: 1.0000e-06 - 22s/epoch - 289ms/step\n",
            "Epoch 26/50\n",
            "75/75 - 21s - loss: 0.7995 - accuracy: 0.6854 - val_loss: 0.8227 - val_accuracy: 0.6510 - lr: 1.0000e-06 - 21s/epoch - 275ms/step\n",
            "Epoch 27/50\n",
            "75/75 - 22s - loss: 0.8044 - accuracy: 0.6854 - val_loss: 0.8261 - val_accuracy: 0.6510 - lr: 1.0000e-06 - 22s/epoch - 297ms/step\n",
            "Epoch 28/50\n",
            "75/75 - 21s - loss: 0.8092 - accuracy: 0.6854 - val_loss: 0.8390 - val_accuracy: 0.6510 - lr: 1.0000e-06 - 21s/epoch - 275ms/step\n",
            "Epoch 29/50\n",
            "\n",
            "Epoch 29: ReduceLROnPlateau reducing learning rate to 1e-07.\n",
            "75/75 - 25s - loss: 0.7997 - accuracy: 0.6854 - val_loss: 0.8265 - val_accuracy: 0.6510 - lr: 1.0000e-06 - 25s/epoch - 331ms/step\n",
            "Epoch 30/50\n",
            "75/75 - 21s - loss: 0.8035 - accuracy: 0.6854 - val_loss: 0.8223 - val_accuracy: 0.6510 - lr: 1.0000e-07 - 21s/epoch - 278ms/step\n",
            "Epoch 31/50\n",
            "75/75 - 22s - loss: 0.8017 - accuracy: 0.6854 - val_loss: 0.8219 - val_accuracy: 0.6510 - lr: 1.0000e-07 - 22s/epoch - 299ms/step\n",
            "Epoch 32/50\n",
            "75/75 - 22s - loss: 0.8084 - accuracy: 0.6854 - val_loss: 0.8238 - val_accuracy: 0.6510 - lr: 1.0000e-07 - 22s/epoch - 299ms/step\n",
            "Epoch 33/50\n",
            "75/75 - 22s - loss: 0.8064 - accuracy: 0.6854 - val_loss: 0.8359 - val_accuracy: 0.6510 - lr: 1.0000e-07 - 22s/epoch - 292ms/step\n",
            "Epoch 34/50\n",
            "75/75 - 21s - loss: 0.8028 - accuracy: 0.6854 - val_loss: 0.8312 - val_accuracy: 0.6510 - lr: 1.0000e-07 - 21s/epoch - 286ms/step\n",
            "Epoch 35/50\n",
            "75/75 - 22s - loss: 0.8017 - accuracy: 0.6854 - val_loss: 0.8351 - val_accuracy: 0.6510 - lr: 1.0000e-07 - 22s/epoch - 297ms/step\n",
            "Epoch 36/50\n",
            "75/75 - 21s - loss: 0.8012 - accuracy: 0.6854 - val_loss: 0.8288 - val_accuracy: 0.6510 - lr: 1.0000e-07 - 21s/epoch - 277ms/step\n",
            "Epoch 37/50\n",
            "75/75 - 21s - loss: 0.8092 - accuracy: 0.6854 - val_loss: 0.8293 - val_accuracy: 0.6510 - lr: 1.0000e-07 - 21s/epoch - 279ms/step\n",
            "Epoch 38/50\n",
            "75/75 - 23s - loss: 0.8036 - accuracy: 0.6854 - val_loss: 0.8162 - val_accuracy: 0.6510 - lr: 1.0000e-07 - 23s/epoch - 304ms/step\n",
            "Epoch 39/50\n",
            "75/75 - 22s - loss: 0.8069 - accuracy: 0.6854 - val_loss: 0.8252 - val_accuracy: 0.6510 - lr: 1.0000e-07 - 22s/epoch - 295ms/step\n",
            "Epoch 40/50\n",
            "75/75 - 21s - loss: 0.8022 - accuracy: 0.6854 - val_loss: 0.8281 - val_accuracy: 0.6510 - lr: 1.0000e-07 - 21s/epoch - 280ms/step\n",
            "Epoch 41/50\n",
            "75/75 - 22s - loss: 0.8021 - accuracy: 0.6854 - val_loss: 0.8245 - val_accuracy: 0.6510 - lr: 1.0000e-07 - 22s/epoch - 299ms/step\n",
            "Epoch 42/50\n",
            "75/75 - 22s - loss: 0.8032 - accuracy: 0.6854 - val_loss: 0.8229 - val_accuracy: 0.6510 - lr: 1.0000e-07 - 22s/epoch - 298ms/step\n",
            "Epoch 43/50\n",
            "75/75 - 21s - loss: 0.8065 - accuracy: 0.6854 - val_loss: 0.8270 - val_accuracy: 0.6510 - lr: 1.0000e-07 - 21s/epoch - 277ms/step\n",
            "Epoch 44/50\n",
            "75/75 - 22s - loss: 0.8070 - accuracy: 0.6854 - val_loss: 0.8270 - val_accuracy: 0.6510 - lr: 1.0000e-07 - 22s/epoch - 300ms/step\n",
            "Epoch 45/50\n",
            "75/75 - 21s - loss: 0.8031 - accuracy: 0.6854 - val_loss: 0.8282 - val_accuracy: 0.6510 - lr: 1.0000e-07 - 21s/epoch - 284ms/step\n",
            "Epoch 46/50\n",
            "75/75 - 23s - loss: 0.8029 - accuracy: 0.6854 - val_loss: 0.8258 - val_accuracy: 0.6510 - lr: 1.0000e-07 - 23s/epoch - 300ms/step\n",
            "Epoch 47/50\n",
            "75/75 - 23s - loss: 0.8068 - accuracy: 0.6854 - val_loss: 0.8270 - val_accuracy: 0.6510 - lr: 1.0000e-07 - 23s/epoch - 304ms/step\n",
            "Epoch 48/50\n",
            "75/75 - 21s - loss: 0.8058 - accuracy: 0.6854 - val_loss: 0.8290 - val_accuracy: 0.6510 - lr: 1.0000e-07 - 21s/epoch - 281ms/step\n",
            "Epoch 49/50\n",
            "75/75 - 23s - loss: 0.8030 - accuracy: 0.6854 - val_loss: 0.8295 - val_accuracy: 0.6510 - lr: 1.0000e-07 - 23s/epoch - 304ms/step\n",
            "Epoch 50/50\n",
            "75/75 - 22s - loss: 0.8054 - accuracy: 0.6854 - val_loss: 0.8237 - val_accuracy: 0.6510 - lr: 1.0000e-07 - 22s/epoch - 290ms/step\n"
          ]
        }
      ]
    },
    {
      "cell_type": "code",
      "metadata": {
        "colab": {
          "base_uri": "https://localhost:8080/",
          "height": 524
        },
        "id": "mEI4Ke07qMN-",
        "outputId": "c31b9cb5-197e-424b-ddeb-f7ad6f2294c3"
      },
      "source": [
        "#https://machinelearningmastery.com/display-deep-learning-model-training-history-in-keras/\n",
        "# summarize history for accuracy\n",
        "plt.plot(student_his_inceptionV3.history['accuracy'],)\n",
        "plt.plot(student_his_inceptionV3.history['val_accuracy'])\n",
        "plt.title('model accuracy')\n",
        "plt.ylabel('accuracy')\n",
        "plt.xlabel('epoch')\n",
        "plt.legend(['train', 'val'], loc='lower right')\n",
        "plt.show()"
      ],
      "execution_count": 8,
      "outputs": [
        {
          "output_type": "display_data",
          "data": {
            "text/plain": [
              "<Figure size 800x550 with 1 Axes>"
            ],
            "image/png": "[encoded data removed]"
          },
          "metadata": {}
        }
      ]
    },
    {
      "cell_type": "code",
      "metadata": {
        "colab": {
          "base_uri": "https://localhost:8080/",
          "height": 524
        },
        "id": "ZwnlqWqyqat9",
        "outputId": "5bf63a7f-5c0e-4859-d89c-b12b00f8cab2"
      },
      "source": [
        "#https://machinelearningmastery.com/display-deep-learning-model-training-history-in-keras/\n",
        "# summarize history for accuracy\n",
        "plt.plot(student_his_inceptionV3.history['loss'])\n",
        "plt.plot(student_his_inceptionV3.history['val_loss'])\n",
        "plt.title('model Loss')\n",
        "plt.ylabel('Loss')\n",
        "plt.xlabel('epoch')\n",
        "plt.legend(['train', 'val'], loc='lower left')\n",
        "plt.show()"
      ],
      "execution_count": 9,
      "outputs": [
        {
          "output_type": "display_data",
          "data": {
            "text/plain": [
              "<Figure size 800x550 with 1 Axes>"
            ],
            "image/png": "[encoded data removed]"
          },
          "metadata": {}
        }
      ]
    },
    {
      "cell_type": "code",
      "metadata": {
        "colab": {
          "base_uri": "https://localhost:8080/"
        },
        "id": "fq-27A29qdfS",
        "outputId": "c0a15dfa-aaf5-4004-eb27-7a258bc92d3a"
      },
      "source": [
        "# Evaluate the model on the test set\n",
        "import timeit\n",
        "\n",
        "start = timeit.default_timer()\n",
        "test_loss, test_acc = modelInceptionV3.evaluate(\n",
        "    test_generator,\n",
        "    verbose=0\n",
        ")\n",
        "\n",
        "print('Test loss:', test_loss)\n",
        "print('Test accuracy:', test_acc)\n",
        "stop = timeit.default_timer()\n",
        "print('\\nTime: ',stop - start,'sec')"
      ],
      "execution_count": 10,
      "outputs": [
        {
          "output_type": "stream",
          "name": "stdout",
          "text": [
            "Test loss: 0.8139060139656067\n",
            "Test accuracy: 0.6866666674613953\n",
            "\n",
            "Time:  2.8484571340000002 sec\n"
          ]
        }
      ]
    },
    {
      "cell_type": "code",
      "metadata": {
        "colab": {
          "base_uri": "https://localhost:8080/"
        },
        "id": "18Eh46L2qgch",
        "outputId": "4a24a602-ad95-489d-83c0-0a96203cfa60"
      },
      "source": [
        "from sklearn.metrics import classification_report\n",
        "\n",
        "# Assuming you have a model named 'model_vgg2' and a test generator named 'test_generator'\n",
        "# Generate predictions for the test data\n",
        "y_pred = modelInceptionV3.predict(test_generator)\n",
        "\n",
        "# Convert predictions from probabilities to class labels\n",
        "y_pred_labels = y_pred.argmax(axis=1)\n",
        "\n",
        "# Get the true labels from the test generator\n",
        "y_true = test_generator.classes\n",
        "\n",
        "# Get the class labels\n",
        "class_labels = list(test_generator.class_indices.keys())\n",
        "\n",
        "# Generate the classification report\n",
        "report = classification_report(y_true, y_pred_labels, target_names=class_labels)\n",
        "\n",
        "# Print the classification report\n",
        "print(report)"
      ],
      "execution_count": 11,
      "outputs": [
        {
          "output_type": "stream",
          "name": "stdout",
          "text": [
            "10/10 [==============================] - 2s 53ms/step\n",
            "              precision    recall  f1-score   support\n",
            "\n",
            "           1       0.69      1.00      0.81       103\n",
            "           2       0.00      0.00      0.00        37\n",
            "           3       0.00      0.00      0.00        10\n",
            "\n",
            "    accuracy                           0.69       150\n",
            "   macro avg       0.23      0.33      0.27       150\n",
            "weighted avg       0.47      0.69      0.56       150\n",
            "\n"
          ]
        },
        {
          "output_type": "stream",
          "name": "stderr",
          "text": [
            "/usr/local/lib/python3.10/dist-packages/sklearn/metrics/_classification.py:1344: UndefinedMetricWarning: Precision and F-score are ill-defined and being set to 0.0 in labels with no predicted samples. Use `zero_division` parameter to control this behavior.\n",
            "  _warn_prf(average, modifier, msg_start, len(result))\n",
            "/usr/local/lib/python3.10/dist-packages/sklearn/metrics/_classification.py:1344: UndefinedMetricWarning: Precision and F-score are ill-defined and being set to 0.0 in labels with no predicted samples. Use `zero_division` parameter to control this behavior.\n",
            "  _warn_prf(average, modifier, msg_start, len(result))\n",
            "/usr/local/lib/python3.10/dist-packages/sklearn/metrics/_classification.py:1344: UndefinedMetricWarning: Precision and F-score are ill-defined and being set to 0.0 in labels with no predicted samples. Use `zero_division` parameter to control this behavior.\n",
            "  _warn_prf(average, modifier, msg_start, len(result))\n"
          ]
        }
      ]
    }
  ]
}