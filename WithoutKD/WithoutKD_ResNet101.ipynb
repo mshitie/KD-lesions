{
  "nbformat": 4,
  "nbformat_minor": 0,
  "metadata": {
    "colab": {
      "name": "WithoutKD_ResNet101.ipynb",
      "provenance": [],
      "include_colab_link": true
    },
    "kernelspec": {
      "name": "python3",
      "display_name": "Python 3"
    },
    "language_info": {
      "name": "python"
    },
    "accelerator": "GPU"
  },
  "cells": [
    {
      "cell_type": "markdown",
      "metadata": {
        "id": "view-in-github",
        "colab_type": "text"
      },
      "source": [
        "<a href=\"https://colab.research.google.com/github/mshitie/MS_KD/blob/main/WithoutKD/WithoutKD_ResNet101.ipynb\" target=\"_parent\"><img src=\"https://colab.research.google.com/assets/colab-badge.svg\" alt=\"Open In Colab\"/></a>"
      ]
    },
    {
      "cell_type": "code",
      "metadata": {
        "colab": {
          "base_uri": "https://localhost:8080/"
        },
        "id": "W7uNEqF5OpBU",
        "outputId": "6a6ba1f7-df27-4f6e-e9ef-179c22906b17"
      },
      "source": [
        "\n",
        "!pip install rarfile\n",
        "\n",
        "from google.colab import drive\n",
        "import rarfile\n",
        "import os\n",
        "\n",
        "# Mount Google Drive\n",
        "drive.mount('/content/drive')\n",
        "\n",
        "# Path to the .rar file in Google Drive\n",
        "rar_path = '/content/drive/MyDrive/computer_vision/main_data_croped.rar'\n",
        "\n",
        "# Destination folder to extract the contents\n",
        "destination_folder = '/content'\n",
        "\n",
        "# Create the destination folder if it doesn't exist\n",
        "if not os.path.exists(destination_folder):\n",
        "    os.makedirs(destination_folder)\n",
        "\n",
        "# Extract the .rar file\n",
        "with rarfile.RarFile(rar_path, 'r') as rar_ref:\n",
        "    rar_ref.extractall(destination_folder)\n",
        "\n",
        "print(\"Extraction completed.\")"
      ],
      "execution_count": 1,
      "outputs": [
        {
          "output_type": "stream",
          "name": "stdout",
          "text": [
            "Collecting rarfile\n",
            "  Downloading rarfile-4.1-py3-none-any.whl (28 kB)\n",
            "Installing collected packages: rarfile\n",
            "Successfully installed rarfile-4.1\n",
            "Mounted at /content/drive\n",
            "Extraction completed.\n"
          ]
        }
      ]
    },
    {
      "cell_type": "code",
      "metadata": {
        "id": "qT6fvHBkPL0x",
        "outputId": "cd2d6581-1be3-4df1-e9e8-33226652660f",
        "colab": {
          "base_uri": "https://localhost:8080/"
        }
      },
      "source": [
        "import os\n",
        "import cv2\n",
        "from PIL import Image\n",
        "import numpy as np\n",
        "import scipy\n",
        "import pandas as pd\n",
        "import matplotlib.pyplot as plt\n",
        "plt.style.use('seaborn')\n",
        "\n",
        "from sklearn import metrics\n",
        "from sklearn.model_selection import train_test_split\n",
        "from sklearn.metrics import classification_report\n",
        "from sklearn.metrics import auc, roc_curve\n",
        "from tqdm import tqdm\n",
        "\n",
        "import time"
      ],
      "execution_count": 2,
      "outputs": [
        {
          "output_type": "stream",
          "name": "stderr",
          "text": [
            "<ipython-input-2-c760a79cdaf2>:8: MatplotlibDeprecationWarning: The seaborn styles shipped by Matplotlib are deprecated since 3.6, as they no longer correspond to the styles shipped by seaborn. However, they will remain available as 'seaborn-v0_8-<style>'. Alternatively, directly use the seaborn API instead.\n",
            "  plt.style.use('seaborn')\n"
          ]
        }
      ]
    },
    {
      "cell_type": "code",
      "metadata": {
        "id": "D3tfA6ETPOIE"
      },
      "source": [
        "# Keras & Tensorflow\n",
        "import keras\n",
        "import tensorflow as tf\n",
        "from keras import layers\n",
        "from keras.models import Model\n",
        "from keras.layers import Lambda, concatenate\n",
        "from tensorflow.keras.utils import to_categorical\n",
        "from keras.preprocessing.image import ImageDataGenerator\n",
        "from keras.models import Sequential\n",
        "from keras.layers import GlobalAveragePooling2D , Conv2D , MaxPooling2D\n",
        "from keras.layers import  Dropout , BatchNormalization , Dense\n",
        "from tensorflow.keras.optimizers import Adam\n",
        "from tensorflow.keras.applications import ResNet50\n",
        "from keras.callbacks import Callback , ReduceLROnPlateau , ModelCheckpoint\n",
        "from sklearn.metrics import cohen_kappa_score, accuracy_score\n",
        "from keras.losses import categorical_crossentropy as logloss\n",
        "from keras.metrics import categorical_accuracy"
      ],
      "execution_count": 3,
      "outputs": []
    },
    {
      "cell_type": "code",
      "source": [
        "\n",
        "# trachoma main dataset binary image classification\n",
        "import os\n",
        "import random\n",
        "import pandas as pd\n",
        "import numpy as np\n",
        "from sklearn.model_selection import train_test_split\n",
        "from tensorflow.keras.preprocessing.image import ImageDataGenerator\n",
        "from tensorflow.keras.applications import VGG16\n",
        "from tensorflow.keras.layers import Input, GlobalAveragePooling2D, Dense\n",
        "from tensorflow.keras.models import Model\n",
        "from tensorflow.keras.optimizers import Adam\n",
        "\n",
        "# Set the path to the directory containing the dataset\n",
        "dataset_dir = '/content/main_data_croped'\n",
        "\n",
        "# Read the CSV file\n",
        "data = pd.read_csv(os.path.join(dataset_dir, '/content/drive/MyDrive/computer_vision/tfti2.csv'), usecols=[\"key\", \"class\"])\n",
        "\n",
        "# Convert the 'class' column to string\n",
        "data['class'] = data['class'].astype(str)\n",
        "\n",
        "# Filter the data to include only classes 1 and 2\n",
        "data = data[data['class'].isin(['1', '2', '3'])]\n",
        "\n",
        "# Split the data into training, validation, and testing sets\n",
        "train_data, test_data = train_test_split(data, test_size=0.2, random_state=0)\n",
        "valid_data, test_data = train_test_split(test_data, test_size=0.5, random_state=0)\n",
        "\n",
        "# Print the number of samples in each set\n",
        "print('Number of train samples:', train_data.shape[0])\n",
        "print('Number of valid samples:', valid_data.shape[0])\n",
        "print('Number of test samples:', test_data.shape[0])\n",
        "\n",
        "# Preprocess data\n",
        "train_data[\"key\"] = train_data[\"key\"].apply(lambda x: x + \".jpg\")\n",
        "valid_data[\"key\"] = valid_data[\"key\"].apply(lambda x: x + \".jpg\")\n",
        "test_data[\"key\"] = test_data[\"key\"].apply(lambda x: x + \".jpg\")\n",
        "\n",
        "BATCH_SIZE = 16\n",
        "HEIGHT = 224\n",
        "WIDTH = 224\n",
        "N_CLASSES = 3\n",
        "\n",
        "# Create data generators\n",
        "train_datagen = ImageDataGenerator(\n",
        "    rescale=1./255,\n",
        "    rotation_range=40,\n",
        "    width_shift_range=0.2,\n",
        "    height_shift_range=0.2,\n",
        "    zoom_range=0.2,\n",
        "    shear_range=0.2,\n",
        "    horizontal_flip=True,\n",
        "    vertical_flip=True\n",
        ")\n",
        "\n",
        "train_generator = train_datagen.flow_from_dataframe(\n",
        "    dataframe=train_data,\n",
        "    directory=dataset_dir,\n",
        "    x_col=\"key\",\n",
        "    y_col=\"class\",\n",
        "    class_mode=\"categorical\",\n",
        "    batch_size=BATCH_SIZE,\n",
        "    target_size=(HEIGHT, WIDTH),\n",
        "    seed=0\n",
        ")\n",
        "\n",
        "valid_datagen = ImageDataGenerator(\n",
        "    rescale=1./255,\n",
        "    rotation_range=40,\n",
        "    width_shift_range=0.2,\n",
        "    height_shift_range=0.2,\n",
        "    zoom_range=0.2,\n",
        "    shear_range=0.2,\n",
        "    horizontal_flip=True,\n",
        "    vertical_flip=True\n",
        ")\n",
        "\n",
        "valid_generator = valid_datagen.flow_from_dataframe(\n",
        "    dataframe=valid_data,\n",
        "    directory=dataset_dir,\n",
        "    x_col=\"key\",\n",
        "    y_col=\"class\",\n",
        "    class_mode=\"categorical\",\n",
        "    batch_size=BATCH_SIZE,\n",
        "    target_size=(HEIGHT, WIDTH),\n",
        "    seed=0\n",
        ")\n",
        "\n",
        "test_datagen = ImageDataGenerator(rescale=1./255)\n",
        "\n",
        "test_generator = test_datagen.flow_from_dataframe(\n",
        "    dataframe=test_data,\n",
        "    directory=dataset_dir,\n",
        "    x_col=\"key\",\n",
        "    batch_size=BATCH_SIZE,\n",
        "    class_mode=\"categorical\",\n",
        "    shuffle=False,\n",
        "    target_size=(HEIGHT, WIDTH),\n",
        "    seed=0\n",
        ")\n",
        "\n",
        "\n",
        "\n"
      ],
      "metadata": {
        "id": "Ge7aI8Dne-Jp",
        "outputId": "09af9a96-e9a8-4e76-875e-56ed2b3c7214",
        "colab": {
          "base_uri": "https://localhost:8080/"
        }
      },
      "execution_count": 4,
      "outputs": [
        {
          "output_type": "stream",
          "name": "stdout",
          "text": [
            "Number of train samples: 1195\n",
            "Number of valid samples: 149\n",
            "Number of test samples: 150\n",
            "Found 1195 validated image filenames belonging to 3 classes.\n",
            "Found 149 validated image filenames belonging to 3 classes.\n",
            "Found 150 validated image filenames belonging to 3 classes.\n"
          ]
        }
      ]
    },
    {
      "cell_type": "code",
      "metadata": {
        "colab": {
          "base_uri": "https://localhost:8080/"
        },
        "id": "XqzScwerPy3p",
        "outputId": "e76412fc-fe4e-4ffe-a1bb-1a5c78524dc5"
      },
      "source": [
        "from tensorflow.keras.applications import ResNet101\n",
        "from tensorflow.keras import layers, regularizers\n",
        "\n",
        "def res_model101(backbone , lr = 1e-4):\n",
        "  resmodel101 = Sequential()\n",
        "  resmodel101.add(backbone)\n",
        "  resmodel101.add(layers.GlobalAveragePooling2D())\n",
        "  resmodel101.add(layers.Dropout(0.5))\n",
        "  resmodel101.add(layers.BatchNormalization())\n",
        "  resmodel101.add(layers.Dense(N_CLASSES, activation='softmax', kernel_regularizer=regularizers.l2(0.01), name='output'))\n",
        "\n",
        "  resmodel101.compile(\n",
        "        loss='categorical_crossentropy',\n",
        "        optimizer=Adam(learning_rate=lr),\n",
        "        metrics=['accuracy']\n",
        "    )\n",
        "\n",
        "  return resmodel101\n",
        "\n",
        "\n",
        "resenet101 = ResNet101(\n",
        "    weights = 'imagenet',\n",
        "    include_top = False,\n",
        "    input_shape =(224 , 224 , 3)\n",
        ")\n",
        "#call the model\n",
        "resmodel101 = res_model101(resenet101 , lr = 1e-4)\n",
        "resmodel101.build((None, 224, 224, 3))\n",
        "resmodel101.summary()"
      ],
      "execution_count": 5,
      "outputs": [
        {
          "output_type": "stream",
          "name": "stdout",
          "text": [
            "Downloading data from https://storage.googleapis.com/tensorflow/keras-applications/resnet/resnet101_weights_tf_dim_ordering_tf_kernels_notop.h5\n",
            "171446536/171446536 [==============================] - 1s 0us/step\n",
            "Model: \"sequential\"\n",
            "_________________________________________________________________\n",
            " Layer (type)                Output Shape              Param #   \n",
            "=================================================================\n",
            " resnet101 (Functional)      (None, 7, 7, 2048)        42658176  \n",
            "                                                                 \n",
            " global_average_pooling2d (  (None, 2048)              0         \n",
            " GlobalAveragePooling2D)                                         \n",
            "                                                                 \n",
            " dropout (Dropout)           (None, 2048)              0         \n",
            "                                                                 \n",
            " batch_normalization (Batch  (None, 2048)              8192      \n",
            " Normalization)                                                  \n",
            "                                                                 \n",
            " output (Dense)              (None, 3)                 6147      \n",
            "                                                                 \n",
            "=================================================================\n",
            "Total params: 42672515 (162.78 MB)\n",
            "Trainable params: 42563075 (162.37 MB)\n",
            "Non-trainable params: 109440 (427.50 KB)\n",
            "_________________________________________________________________\n"
          ]
        }
      ]
    },
    {
      "cell_type": "code",
      "metadata": {
        "colab": {
          "base_uri": "https://localhost:8080/"
        },
        "id": "P5L3qU5gP2XJ",
        "outputId": "8779742e-a610-4f7c-b0ce-6534412592ef"
      },
      "source": [
        "# Training the teacher model with Resnet50\n",
        "# Train the teacher model as usual\n",
        "\n",
        "reduce_lr = ReduceLROnPlateau(monitor='val_loss', factor=0.1, patience=5, verbose=1, min_lr=1e-7)\n",
        "epochs = 50\n",
        "batch_size = 32\n",
        "resmodel101_student_his = resmodel101.fit(train_generator,\n",
        "          batch_size=batch_size,\n",
        "          epochs=epochs,\n",
        "          verbose=2,\n",
        "          validation_data=valid_generator,\n",
        "                           callbacks=[reduce_lr])"
      ],
      "execution_count": 6,
      "outputs": [
        {
          "output_type": "stream",
          "name": "stdout",
          "text": [
            "Epoch 1/50\n",
            "75/75 - 135s - loss: 1.3185 - accuracy: 0.5222 - val_loss: 0.9667 - val_accuracy: 0.6510 - lr: 1.0000e-04 - 135s/epoch - 2s/step\n",
            "Epoch 2/50\n",
            "75/75 - 27s - loss: 0.9163 - accuracy: 0.7188 - val_loss: 3.6815 - val_accuracy: 0.0738 - lr: 1.0000e-04 - 27s/epoch - 364ms/step\n",
            "Epoch 3/50\n",
            "75/75 - 34s - loss: 0.8420 - accuracy: 0.7448 - val_loss: 29.6314 - val_accuracy: 0.0738 - lr: 1.0000e-04 - 34s/epoch - 451ms/step\n",
            "Epoch 4/50\n",
            "75/75 - 27s - loss: 0.7060 - accuracy: 0.7841 - val_loss: 4.2280 - val_accuracy: 0.0738 - lr: 1.0000e-04 - 27s/epoch - 366ms/step\n",
            "Epoch 5/50\n",
            "75/75 - 28s - loss: 0.5708 - accuracy: 0.8226 - val_loss: 2.4405 - val_accuracy: 0.6510 - lr: 1.0000e-04 - 28s/epoch - 368ms/step\n",
            "Epoch 6/50\n",
            "\n",
            "Epoch 6: ReduceLROnPlateau reducing learning rate to 9.999999747378752e-06.\n",
            "75/75 - 28s - loss: 0.6245 - accuracy: 0.8176 - val_loss: 2.2649 - val_accuracy: 0.2685 - lr: 1.0000e-04 - 28s/epoch - 369ms/step\n",
            "Epoch 7/50\n",
            "75/75 - 28s - loss: 0.6460 - accuracy: 0.8377 - val_loss: 1.5725 - val_accuracy: 0.2685 - lr: 1.0000e-05 - 28s/epoch - 378ms/step\n",
            "Epoch 8/50\n",
            "75/75 - 29s - loss: 0.6165 - accuracy: 0.8201 - val_loss: 2.3254 - val_accuracy: 0.2617 - lr: 1.0000e-05 - 29s/epoch - 388ms/step\n",
            "Epoch 9/50\n",
            "75/75 - 28s - loss: 0.4938 - accuracy: 0.8385 - val_loss: 5.4347 - val_accuracy: 0.1275 - lr: 1.0000e-05 - 28s/epoch - 374ms/step\n",
            "Epoch 10/50\n",
            "75/75 - 28s - loss: 0.5540 - accuracy: 0.8410 - val_loss: 7.7352 - val_accuracy: 0.0738 - lr: 1.0000e-05 - 28s/epoch - 376ms/step\n",
            "Epoch 11/50\n",
            "\n",
            "Epoch 11: ReduceLROnPlateau reducing learning rate to 9.999999747378752e-07.\n",
            "75/75 - 28s - loss: 0.5053 - accuracy: 0.8435 - val_loss: 11.4877 - val_accuracy: 0.0805 - lr: 1.0000e-05 - 28s/epoch - 379ms/step\n",
            "Epoch 12/50\n",
            "75/75 - 28s - loss: 0.5218 - accuracy: 0.8418 - val_loss: 8.7223 - val_accuracy: 0.1141 - lr: 1.0000e-06 - 28s/epoch - 371ms/step\n",
            "Epoch 13/50\n",
            "75/75 - 30s - loss: 0.4708 - accuracy: 0.8527 - val_loss: 5.3534 - val_accuracy: 0.3557 - lr: 1.0000e-06 - 30s/epoch - 406ms/step\n",
            "Epoch 14/50\n",
            "75/75 - 28s - loss: 0.4928 - accuracy: 0.8519 - val_loss: 2.9200 - val_accuracy: 0.5436 - lr: 1.0000e-06 - 28s/epoch - 372ms/step\n",
            "Epoch 15/50\n",
            "75/75 - 28s - loss: 0.4522 - accuracy: 0.8669 - val_loss: 1.3336 - val_accuracy: 0.7315 - lr: 1.0000e-06 - 28s/epoch - 369ms/step\n",
            "Epoch 16/50\n",
            "75/75 - 29s - loss: 0.4624 - accuracy: 0.8603 - val_loss: 0.7202 - val_accuracy: 0.8255 - lr: 1.0000e-06 - 29s/epoch - 387ms/step\n",
            "Epoch 17/50\n",
            "75/75 - 28s - loss: 0.4295 - accuracy: 0.8695 - val_loss: 0.4721 - val_accuracy: 0.8725 - lr: 1.0000e-06 - 28s/epoch - 372ms/step\n",
            "Epoch 18/50\n",
            "75/75 - 28s - loss: 0.4926 - accuracy: 0.8552 - val_loss: 0.3711 - val_accuracy: 0.8859 - lr: 1.0000e-06 - 28s/epoch - 371ms/step\n",
            "Epoch 19/50\n",
            "75/75 - 28s - loss: 0.5043 - accuracy: 0.8510 - val_loss: 0.5140 - val_accuracy: 0.9060 - lr: 1.0000e-06 - 28s/epoch - 368ms/step\n",
            "Epoch 20/50\n",
            "75/75 - 28s - loss: 0.4532 - accuracy: 0.8594 - val_loss: 0.3333 - val_accuracy: 0.8859 - lr: 1.0000e-06 - 28s/epoch - 372ms/step\n",
            "Epoch 21/50\n",
            "75/75 - 28s - loss: 0.4620 - accuracy: 0.8561 - val_loss: 0.3886 - val_accuracy: 0.8725 - lr: 1.0000e-06 - 28s/epoch - 368ms/step\n",
            "Epoch 22/50\n",
            "75/75 - 28s - loss: 0.4602 - accuracy: 0.8544 - val_loss: 0.4174 - val_accuracy: 0.9060 - lr: 1.0000e-06 - 28s/epoch - 368ms/step\n",
            "Epoch 23/50\n",
            "75/75 - 28s - loss: 0.4697 - accuracy: 0.8477 - val_loss: 0.4563 - val_accuracy: 0.8725 - lr: 1.0000e-06 - 28s/epoch - 370ms/step\n",
            "Epoch 24/50\n",
            "75/75 - 29s - loss: 0.4459 - accuracy: 0.8686 - val_loss: 0.3971 - val_accuracy: 0.8926 - lr: 1.0000e-06 - 29s/epoch - 386ms/step\n",
            "Epoch 25/50\n",
            "\n",
            "Epoch 25: ReduceLROnPlateau reducing learning rate to 1e-07.\n",
            "75/75 - 28s - loss: 0.4782 - accuracy: 0.8519 - val_loss: 0.3435 - val_accuracy: 0.8926 - lr: 1.0000e-06 - 28s/epoch - 373ms/step\n",
            "Epoch 26/50\n",
            "75/75 - 28s - loss: 0.4292 - accuracy: 0.8770 - val_loss: 0.4784 - val_accuracy: 0.8591 - lr: 1.0000e-07 - 28s/epoch - 373ms/step\n",
            "Epoch 27/50\n",
            "75/75 - 28s - loss: 0.4783 - accuracy: 0.8519 - val_loss: 0.3571 - val_accuracy: 0.8859 - lr: 1.0000e-07 - 28s/epoch - 371ms/step\n",
            "Epoch 28/50\n",
            "75/75 - 28s - loss: 0.4625 - accuracy: 0.8669 - val_loss: 0.3416 - val_accuracy: 0.8859 - lr: 1.0000e-07 - 28s/epoch - 371ms/step\n",
            "Epoch 29/50\n",
            "75/75 - 28s - loss: 0.4279 - accuracy: 0.8619 - val_loss: 0.3299 - val_accuracy: 0.8993 - lr: 1.0000e-07 - 28s/epoch - 370ms/step\n",
            "Epoch 30/50\n",
            "75/75 - 28s - loss: 0.4688 - accuracy: 0.8678 - val_loss: 0.4211 - val_accuracy: 0.8859 - lr: 1.0000e-07 - 28s/epoch - 368ms/step\n",
            "Epoch 31/50\n",
            "75/75 - 27s - loss: 0.4602 - accuracy: 0.8611 - val_loss: 0.3486 - val_accuracy: 0.8993 - lr: 1.0000e-07 - 27s/epoch - 366ms/step\n",
            "Epoch 32/50\n",
            "75/75 - 27s - loss: 0.4125 - accuracy: 0.8661 - val_loss: 0.3768 - val_accuracy: 0.9128 - lr: 1.0000e-07 - 27s/epoch - 366ms/step\n",
            "Epoch 33/50\n",
            "75/75 - 28s - loss: 0.4772 - accuracy: 0.8469 - val_loss: 0.4154 - val_accuracy: 0.8725 - lr: 1.0000e-07 - 28s/epoch - 373ms/step\n",
            "Epoch 34/50\n",
            "75/75 - 28s - loss: 0.4729 - accuracy: 0.8594 - val_loss: 0.3932 - val_accuracy: 0.8792 - lr: 1.0000e-07 - 28s/epoch - 371ms/step\n",
            "Epoch 35/50\n",
            "75/75 - 28s - loss: 0.4740 - accuracy: 0.8594 - val_loss: 0.4183 - val_accuracy: 0.8725 - lr: 1.0000e-07 - 28s/epoch - 368ms/step\n",
            "Epoch 36/50\n",
            "75/75 - 28s - loss: 0.4669 - accuracy: 0.8594 - val_loss: 0.4744 - val_accuracy: 0.8523 - lr: 1.0000e-07 - 28s/epoch - 368ms/step\n",
            "Epoch 37/50\n",
            "75/75 - 28s - loss: 0.4612 - accuracy: 0.8644 - val_loss: 0.4233 - val_accuracy: 0.8658 - lr: 1.0000e-07 - 28s/epoch - 369ms/step\n",
            "Epoch 38/50\n",
            "75/75 - 28s - loss: 0.4608 - accuracy: 0.8460 - val_loss: 0.3846 - val_accuracy: 0.8993 - lr: 1.0000e-07 - 28s/epoch - 369ms/step\n",
            "Epoch 39/50\n",
            "75/75 - 28s - loss: 0.4373 - accuracy: 0.8653 - val_loss: 0.3374 - val_accuracy: 0.8993 - lr: 1.0000e-07 - 28s/epoch - 367ms/step\n",
            "Epoch 40/50\n",
            "75/75 - 28s - loss: 0.4761 - accuracy: 0.8611 - val_loss: 0.4384 - val_accuracy: 0.8993 - lr: 1.0000e-07 - 28s/epoch - 370ms/step\n",
            "Epoch 41/50\n",
            "75/75 - 29s - loss: 0.4216 - accuracy: 0.8778 - val_loss: 0.4057 - val_accuracy: 0.8993 - lr: 1.0000e-07 - 29s/epoch - 388ms/step\n",
            "Epoch 42/50\n",
            "75/75 - 28s - loss: 0.4954 - accuracy: 0.8544 - val_loss: 0.3873 - val_accuracy: 0.8993 - lr: 1.0000e-07 - 28s/epoch - 379ms/step\n",
            "Epoch 43/50\n",
            "75/75 - 28s - loss: 0.4595 - accuracy: 0.8561 - val_loss: 0.3551 - val_accuracy: 0.8993 - lr: 1.0000e-07 - 28s/epoch - 379ms/step\n",
            "Epoch 44/50\n",
            "75/75 - 28s - loss: 0.4463 - accuracy: 0.8678 - val_loss: 0.4654 - val_accuracy: 0.8591 - lr: 1.0000e-07 - 28s/epoch - 372ms/step\n",
            "Epoch 45/50\n",
            "75/75 - 28s - loss: 0.4568 - accuracy: 0.8577 - val_loss: 0.4204 - val_accuracy: 0.8725 - lr: 1.0000e-07 - 28s/epoch - 374ms/step\n",
            "Epoch 46/50\n",
            "75/75 - 28s - loss: 0.4422 - accuracy: 0.8770 - val_loss: 0.4348 - val_accuracy: 0.8591 - lr: 1.0000e-07 - 28s/epoch - 371ms/step\n",
            "Epoch 47/50\n",
            "75/75 - 28s - loss: 0.4524 - accuracy: 0.8695 - val_loss: 0.4586 - val_accuracy: 0.8725 - lr: 1.0000e-07 - 28s/epoch - 368ms/step\n",
            "Epoch 48/50\n",
            "75/75 - 28s - loss: 0.4161 - accuracy: 0.8628 - val_loss: 0.4102 - val_accuracy: 0.8658 - lr: 1.0000e-07 - 28s/epoch - 370ms/step\n",
            "Epoch 49/50\n",
            "75/75 - 28s - loss: 0.4216 - accuracy: 0.8854 - val_loss: 0.3938 - val_accuracy: 0.8859 - lr: 1.0000e-07 - 28s/epoch - 368ms/step\n",
            "Epoch 50/50\n",
            "75/75 - 27s - loss: 0.4570 - accuracy: 0.8628 - val_loss: 0.4064 - val_accuracy: 0.8658 - lr: 1.0000e-07 - 27s/epoch - 365ms/step\n"
          ]
        }
      ]
    },
    {
      "cell_type": "code",
      "source": [
        "#https://machinelearningmastery.com/display-deep-learning-model-training-history-in-keras/\n",
        "# summarize history for accuracy\n",
        "plt.plot(resmodel101_student_his.history['accuracy'],)\n",
        "plt.plot(resmodel101_student_his.history['val_accuracy'])\n",
        "plt.title('model accuracy')\n",
        "plt.ylabel('accuracy')\n",
        "plt.xlabel('epoch')\n",
        "plt.legend(['train', 'val'], loc='lower right')\n",
        "plt.show()"
      ],
      "metadata": {
        "id": "slKuVq56fhKb",
        "outputId": "ead85314-9054-4ebb-d134-226d8d6b7277",
        "colab": {
          "base_uri": "https://localhost:8080/",
          "height": 524
        }
      },
      "execution_count": 8,
      "outputs": [
        {
          "output_type": "display_data",
          "data": {
            "text/plain": [
              "<Figure size 800x550 with 1 Axes>"
            ],
            "image/png": "[encoded data removed]"
          },
          "metadata": {}
        }
      ]
    },
    {
      "cell_type": "code",
      "source": [
        "#https://machinelearningmastery.com/display-deep-learning-model-training-history-in-keras/\n",
        "# summarize history for accuracy\n",
        "plt.plot(resmodel101_student_his.history['loss'])\n",
        "plt.plot(resmodel101_student_his.history['val_loss'])\n",
        "plt.title('model Loss')\n",
        "plt.ylabel('Loss')\n",
        "plt.xlabel('epoch')\n",
        "plt.legend(['train', 'val'], loc='lower left')\n",
        "plt.show()"
      ],
      "metadata": {
        "id": "U9tbbmNJfipv",
        "outputId": "780e986b-a321-4d21-c77b-7f89651c4ef8",
        "colab": {
          "base_uri": "https://localhost:8080/",
          "height": 524
        }
      },
      "execution_count": 9,
      "outputs": [
        {
          "output_type": "display_data",
          "data": {
            "text/plain": [
              "<Figure size 800x550 with 1 Axes>"
            ],
            "image/png": "[encoded data removed]"
          },
          "metadata": {}
        }
      ]
    },
    {
      "cell_type": "code",
      "source": [
        "# Evaluate the model on the test set\n",
        "import timeit\n",
        "\n",
        "start = timeit.default_timer()\n",
        "test_loss, test_acc = resmodel101.evaluate(\n",
        "    test_generator,\n",
        "    verbose=0\n",
        ")\n",
        "\n",
        "print('Test loss:', test_loss)\n",
        "print('Test accuracy:', test_acc)\n",
        "stop = timeit.default_timer()\n",
        "print('\\nTime: ',stop - start,'sec')"
      ],
      "metadata": {
        "id": "owqWCakXflZ5",
        "outputId": "f6b970df-fbd8-4c2a-c8ba-6bb68a9af2cf",
        "colab": {
          "base_uri": "https://localhost:8080/"
        }
      },
      "execution_count": 10,
      "outputs": [
        {
          "output_type": "stream",
          "name": "stdout",
          "text": [
            "Test loss: 0.48872050642967224\n",
            "Test accuracy: 0.8399999737739563\n",
            "\n",
            "Time:  1.597722990999955 sec\n"
          ]
        }
      ]
    },
    {
      "cell_type": "code",
      "source": [
        "from sklearn.metrics import classification_report\n",
        "\n",
        "# Assuming you have a model named 'model_vgg2' and a test generator named 'test_generator'\n",
        "# Generate predictions for the test data\n",
        "y_pred = resmodel101.predict(test_generator)\n",
        "\n",
        "# Convert predictions from probabilities to class labels\n",
        "y_pred_labels = y_pred.argmax(axis=1)\n",
        "\n",
        "# Get the true labels from the test generator\n",
        "y_true = test_generator.classes\n",
        "\n",
        "# Get the class labels\n",
        "class_labels = list(test_generator.class_indices.keys())\n",
        "\n",
        "# Generate the classification report\n",
        "report = classification_report(y_true, y_pred_labels, target_names=class_labels)\n",
        "\n",
        "# Print the classification report\n",
        "print(report)"
      ],
      "metadata": {
        "id": "y8DtqGt1foZT",
        "outputId": "b91297ee-37af-4812-c1d7-e366ab34f1ef",
        "colab": {
          "base_uri": "https://localhost:8080/"
        }
      },
      "execution_count": 11,
      "outputs": [
        {
          "output_type": "stream",
          "name": "stdout",
          "text": [
            "10/10 [==============================] - 3s 99ms/step\n",
            "              precision    recall  f1-score   support\n",
            "\n",
            "           1       0.85      0.95      0.90       103\n",
            "           2       0.88      0.62      0.73        37\n",
            "           3       0.56      0.50      0.53        10\n",
            "\n",
            "    accuracy                           0.84       150\n",
            "   macro avg       0.76      0.69      0.72       150\n",
            "weighted avg       0.84      0.84      0.83       150\n",
            "\n"
          ]
        }
      ]
    }
  ]
}