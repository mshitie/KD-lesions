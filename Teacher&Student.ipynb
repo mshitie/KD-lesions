{
  "nbformat": 4,
  "nbformat_minor": 0,
  "metadata": {
    "colab": {
      "name": "Teacher&Student.ipynb",
      "provenance": [],
      "gpuType": "T4",
      "include_colab_link": true
    },
    "kernelspec": {
      "name": "python3",
      "display_name": "Python 3"
    },
    "language_info": {
      "name": "python"
    },
    "accelerator": "GPU"
  },
  "cells": [
    {
      "cell_type": "markdown",
      "metadata": {
        "id": "view-in-github",
        "colab_type": "text"
      },
      "source": [
        "<a href=\"https://colab.research.google.com/github/mshitie/MS_KD/blob/main/Teacher%26Student.ipynb\" target=\"_parent\"><img src=\"https://colab.research.google.com/assets/colab-badge.svg\" alt=\"Open In Colab\"/></a>"
      ]
    },
    {
      "cell_type": "code",
      "metadata": {
        "colab": {
          "base_uri": "https://localhost:8080/"
        },
        "id": "iwJzQrr6u_s9",
        "outputId": "a19e7d3c-945b-4948-a0fa-f80a8150a412"
      },
      "source": [
        "!pip install rarfile\n",
        "\n",
        "from google.colab import drive\n",
        "import rarfile\n",
        "import os\n",
        "\n",
        "# Mount Google Drive\n",
        "drive.mount('/content/drive')\n",
        "\n",
        "# Path to the .rar file in Google Drive\n",
        "rar_path = '/content/drive/MyDrive/computer_vision/main_data_croped.rar'\n",
        "\n",
        "# Destination folder to extract the contents\n",
        "destination_folder = '/content'\n",
        "\n",
        "# Create the destination folder if it doesn't exist\n",
        "if not os.path.exists(destination_folder):\n",
        "    os.makedirs(destination_folder)\n",
        "\n",
        "# Extract the .rar file\n",
        "with rarfile.RarFile(rar_path, 'r') as rar_ref:\n",
        "    rar_ref.extractall(destination_folder)\n",
        "\n",
        "print(\"Extraction completed.\")"
      ],
      "execution_count": 25,
      "outputs": [
        {
          "output_type": "stream",
          "name": "stdout",
          "text": [
            "Requirement already satisfied: rarfile in /usr/local/lib/python3.10/dist-packages (4.1)\n",
            "Drive already mounted at /content/drive; to attempt to forcibly remount, call drive.mount(\"/content/drive\", force_remount=True).\n",
            "Extraction completed.\n"
          ]
        }
      ]
    },
    {
      "cell_type": "code",
      "source": [
        "import os\n",
        "import cv2\n",
        "from PIL import Image\n",
        "import numpy as np\n",
        "import scipy\n",
        "import pandas as pd\n",
        "import matplotlib.pyplot as plt\n",
        "plt.style.use('seaborn')\n",
        "\n",
        "from sklearn import metrics\n",
        "from sklearn.model_selection import train_test_split\n",
        "from sklearn.metrics import classification_report\n",
        "from sklearn.metrics import auc, roc_curve\n",
        "from tqdm import tqdm\n",
        "\n",
        "import time\n",
        "import tensorflow as tf\n",
        "from tensorflow import keras\n",
        "from tensorflow.keras import layers\n",
        "from tensorflow.keras.utils import to_categorical\n",
        "from tensorflow.keras.preprocessing.image import ImageDataGenerator\n",
        "from tensorflow.keras.models import Sequential, Model\n",
        "from tensorflow.keras.layers import Lambda, concatenate, GlobalAveragePooling2D, Conv2D, MaxPooling2D, Dropout, BatchNormalization, Dense\n",
        "from tensorflow.keras.optimizers import Adam\n",
        "from tensorflow.keras.applications import ResNet50\n",
        "from tensorflow.keras.applications import VGG16\n",
        "from tensorflow.keras.callbacks import Callback, ReduceLROnPlateau, ModelCheckpoint\n",
        "from sklearn.metrics import cohen_kappa_score, accuracy_score\n",
        "from tensorflow.keras.losses import categorical_crossentropy as logloss\n",
        "from tensorflow.keras.metrics import categorical_accuracy\n",
        "\n",
        "!pip install tensorflow-addons\n",
        "import tensorflow_addons as tfa\n",
        "import random"
      ],
      "metadata": {
        "colab": {
          "base_uri": "https://localhost:8080/"
        },
        "id": "fwSYwA86CWiv",
        "outputId": "4caf8a39-2ed6-4619-8d64-860c24f105f2"
      },
      "execution_count": 34,
      "outputs": [
        {
          "output_type": "stream",
          "name": "stderr",
          "text": [
            "<ipython-input-34-2e4b0d649a65>:8: MatplotlibDeprecationWarning: The seaborn styles shipped by Matplotlib are deprecated since 3.6, as they no longer correspond to the styles shipped by seaborn. However, they will remain available as 'seaborn-v0_8-<style>'. Alternatively, directly use the seaborn API instead.\n",
            "  plt.style.use('seaborn')\n"
          ]
        },
        {
          "output_type": "stream",
          "name": "stdout",
          "text": [
            "Requirement already satisfied: tensorflow-addons in /usr/local/lib/python3.10/dist-packages (0.21.0)\n",
            "Requirement already satisfied: packaging in /usr/local/lib/python3.10/dist-packages (from tensorflow-addons) (23.1)\n",
            "Requirement already satisfied: typeguard<3.0.0,>=2.7 in /usr/local/lib/python3.10/dist-packages (from tensorflow-addons) (2.13.3)\n"
          ]
        }
      ]
    },
    {
      "cell_type": "code",
      "source": [
        "# Set the path to the directory containing the dataset\n",
        "dataset_dir = '/content/main_data_croped'\n",
        "\n",
        "# Read the CSV file\n",
        "data = pd.read_csv(os.path.join(dataset_dir, '/content/drive/MyDrive/computer_vision/tfti2.csv'), usecols=[\"key\", \"class\"])\n",
        "\n",
        "# Convert the 'class' column to string\n",
        "data['class'] = data['class'].astype(str)\n",
        "\n",
        "# Filter the data to include only classes 1 and 2\n",
        "data = data[data['class'].isin(['1','2','3'])]\n",
        "\n",
        "# Split the data into training, validation, and testing sets\n",
        "train_data, test_data = train_test_split(data, test_size=0.2, random_state=0)\n",
        "valid_data, test_data = train_test_split(test_data, test_size=0.5, random_state=0)\n",
        "\n",
        "# Print the number of samples in each set\n",
        "print('Number of train samples:', train_data.shape[0])\n",
        "print('Number of valid samples:', valid_data.shape[0])\n",
        "print('Number of test samples:', test_data.shape[0])\n",
        "\n",
        "# Preprocess data\n",
        "train_data[\"key\"] = train_data[\"key\"].apply(lambda x: x + \".jpg\")\n",
        "valid_data[\"key\"] = valid_data[\"key\"].apply(lambda x: x + \".jpg\")\n",
        "test_data[\"key\"] = test_data[\"key\"].apply(lambda x: x + \".jpg\")\n",
        "\n",
        "BATCH_SIZE = 16\n",
        "HEIGHT = 224\n",
        "WIDTH = 224\n",
        "N_CLASSES = 3\n",
        "\n",
        "# Create data generators\n",
        "train_datagen = ImageDataGenerator(\n",
        "    rescale=1./255,\n",
        "    rotation_range=360,\n",
        "    horizontal_flip=True,\n",
        "    vertical_flip=True\n",
        ")\n",
        "\n",
        "train_generator = train_datagen.flow_from_dataframe(\n",
        "    dataframe=train_data,\n",
        "    directory=dataset_dir,\n",
        "    x_col=\"key\",\n",
        "    y_col=\"class\",\n",
        "    class_mode=\"categorical\", # binary for two class\n",
        "    batch_size=BATCH_SIZE,\n",
        "    target_size=(HEIGHT, WIDTH),\n",
        "    seed=0\n",
        ")\n",
        "\n",
        "valid_datagen = ImageDataGenerator(\n",
        "    rescale=1./255,\n",
        "    rotation_range=360,\n",
        "    horizontal_flip=True,\n",
        "    vertical_flip=True\n",
        ")\n",
        "\n",
        "valid_generator = valid_datagen.flow_from_dataframe(\n",
        "    dataframe=valid_data,\n",
        "    directory=dataset_dir,\n",
        "    x_col=\"key\",\n",
        "    y_col=\"class\",\n",
        "    class_mode=\"categorical\", # binary for two class\n",
        "    batch_size=BATCH_SIZE,\n",
        "    target_size=(HEIGHT, WIDTH),\n",
        "    seed=0\n",
        ")\n",
        "\n",
        "test_datagen = ImageDataGenerator(rescale=1./255)\n",
        "\n",
        "test_generator = test_datagen.flow_from_dataframe(\n",
        "    dataframe=test_data,\n",
        "    directory=dataset_dir,\n",
        "    x_col=\"key\",\n",
        "    batch_size=BATCH_SIZE,\n",
        "    class_mode=\"categorical\", # binary for two class\n",
        "    shuffle=False,\n",
        "    target_size=(HEIGHT, WIDTH),\n",
        "    seed=0\n",
        ")"
      ],
      "metadata": {
        "colab": {
          "base_uri": "https://localhost:8080/"
        },
        "id": "aUdECoLuDY_u",
        "outputId": "173db0af-c3eb-4cb6-a2ef-21767672e971"
      },
      "execution_count": 35,
      "outputs": [
        {
          "output_type": "stream",
          "name": "stdout",
          "text": [
            "Number of train samples: 1195\n",
            "Number of valid samples: 149\n",
            "Number of test samples: 150\n",
            "Found 1195 validated image filenames belonging to 3 classes.\n",
            "Found 149 validated image filenames belonging to 3 classes.\n",
            "Found 150 validated image filenames belonging to 3 classes.\n"
          ]
        }
      ]
    },
    {
      "cell_type": "code",
      "metadata": {
        "colab": {
          "base_uri": "https://localhost:8080/"
        },
        "id": "o3O5-mfAvpmL",
        "outputId": "563f9ac5-7e72-4a38-e46d-ddb8a54ce4eb"
      },
      "source": [
        "# Teacher model with ResNet50\n",
        "def build_model(backbone , lr = 1e-4):\n",
        "  model = Sequential()\n",
        "  model.add(backbone)\n",
        "  model.add(layers.GlobalAveragePooling2D())\n",
        "  model.add(layers.Dropout(0.5))\n",
        "  model.add(layers.BatchNormalization())\n",
        "  model.add(layers.Dense(1 , activation='softmax'))\n",
        "\n",
        "  model.compile(\n",
        "        loss='binary_crossentropy',\n",
        "        optimizer=Adam(learning_rate=1e-4),\n",
        "        metrics=['accuracy']\n",
        "    )\n",
        "\n",
        "  return model\n",
        "\n",
        "resnet = VGG16(\n",
        "    weights = 'imagenet',\n",
        "    include_top = False,\n",
        "    input_shape = (224 , 224 , 3)\n",
        ")\n",
        "# call the model\n",
        "model = build_model(resnet , lr = 1e-4)\n",
        "model.build((None, 224, 224, 3))\n",
        "model.summary()"
      ],
      "execution_count": 36,
      "outputs": [
        {
          "output_type": "stream",
          "name": "stdout",
          "text": [
            "Downloading data from https://storage.googleapis.com/tensorflow/keras-applications/vgg16/vgg16_weights_tf_dim_ordering_tf_kernels_notop.h5\n",
            "58889256/58889256 [==============================] - 1s 0us/step\n",
            "Model: \"sequential_3\"\n",
            "_________________________________________________________________\n",
            " Layer (type)                Output Shape              Param #   \n",
            "=================================================================\n",
            " vgg16 (Functional)          (None, 7, 7, 512)         14714688  \n",
            "                                                                 \n",
            " global_average_pooling2d_3  (None, 512)               0         \n",
            "  (GlobalAveragePooling2D)                                       \n",
            "                                                                 \n",
            " dropout_3 (Dropout)         (None, 512)               0         \n",
            "                                                                 \n",
            " batch_normalization_3 (Bat  (None, 512)               2048      \n",
            " chNormalization)                                                \n",
            "                                                                 \n",
            " dense_3 (Dense)             (None, 1)                 513       \n",
            "                                                                 \n",
            "=================================================================\n",
            "Total params: 14717249 (56.14 MB)\n",
            "Trainable params: 14716225 (56.14 MB)\n",
            "Non-trainable params: 1024 (4.00 KB)\n",
            "_________________________________________________________________\n"
          ]
        }
      ]
    },
    {
      "cell_type": "code",
      "metadata": {
        "id": "_NzK9jN7i6yP"
      },
      "source": [
        "learn_control = ReduceLROnPlateau(monitor='val_acc', patience=5,verbose=1,factor=0.2, min_lr=1e-4)\n",
        "filepath=\"ResNet50weights.best.hdf5\"\n",
        "checkpoint = ModelCheckpoint(filepath, monitor='val_acc', verbose=1, save_best_only=True, mode='max')"
      ],
      "execution_count": 37,
      "outputs": []
    },
    {
      "cell_type": "code",
      "metadata": {
        "colab": {
          "base_uri": "https://localhost:8080/"
        },
        "id": "PVroJarTwWl6",
        "outputId": "6ac76178-7ec0-4e07-d072-dfba9203a723"
      },
      "source": [
        "# Training the teacher model with Resnet50\n",
        "# Train the teacher model as usual\n",
        "# Configuration\n",
        "import time\n",
        "epochs = 10\n",
        "batch_size = 64\n",
        "\n",
        "# Calculate the starting time\n",
        "start_time = time.time()\n",
        "\n",
        "teacher_his = model.fit(\n",
        "    train_generator,\n",
        "    epochs=epochs,\n",
        "    validation_data=valid_generator,\n",
        "    verbose=2,\n",
        "            callbacks=[learn_control, checkpoint])\n",
        "\n",
        "\n",
        "end_time = time.time()\n",
        "print(\"--- Time taken to train : %s seconds ---\" % ((end_time - start_time)))"
      ],
      "execution_count": null,
      "outputs": [
        {
          "output_type": "stream",
          "name": "stdout",
          "text": [
            "Epoch 1/10\n"
          ]
        },
        {
          "output_type": "stream",
          "name": "stderr",
          "text": [
            "WARNING:tensorflow:Learning rate reduction is conditioned on metric `val_acc` which is not available. Available metrics are: loss,accuracy,val_loss,val_accuracy,lr\n",
            "WARNING:tensorflow:Can save best model only with val_acc available, skipping.\n"
          ]
        },
        {
          "output_type": "stream",
          "name": "stdout",
          "text": [
            "75/75 - 42s - loss: 0.6854 - accuracy: 0.3333 - val_loss: 0.6372 - val_accuracy: 0.3333 - lr: 1.0000e-04 - 42s/epoch - 557ms/step\n",
            "Epoch 2/10\n"
          ]
        },
        {
          "output_type": "stream",
          "name": "stderr",
          "text": [
            "WARNING:tensorflow:Learning rate reduction is conditioned on metric `val_acc` which is not available. Available metrics are: loss,accuracy,val_loss,val_accuracy,lr\n",
            "WARNING:tensorflow:Can save best model only with val_acc available, skipping.\n"
          ]
        },
        {
          "output_type": "stream",
          "name": "stdout",
          "text": [
            "75/75 - 26s - loss: 0.6612 - accuracy: 0.3333 - val_loss: 0.6499 - val_accuracy: 0.3333 - lr: 1.0000e-04 - 26s/epoch - 352ms/step\n",
            "Epoch 3/10\n"
          ]
        },
        {
          "output_type": "stream",
          "name": "stderr",
          "text": [
            "WARNING:tensorflow:Learning rate reduction is conditioned on metric `val_acc` which is not available. Available metrics are: loss,accuracy,val_loss,val_accuracy,lr\n",
            "WARNING:tensorflow:Can save best model only with val_acc available, skipping.\n"
          ]
        },
        {
          "output_type": "stream",
          "name": "stdout",
          "text": [
            "75/75 - 25s - loss: 0.6440 - accuracy: 0.3333 - val_loss: 0.6387 - val_accuracy: 0.3333 - lr: 1.0000e-04 - 25s/epoch - 334ms/step\n",
            "Epoch 4/10\n"
          ]
        },
        {
          "output_type": "stream",
          "name": "stderr",
          "text": [
            "WARNING:tensorflow:Learning rate reduction is conditioned on metric `val_acc` which is not available. Available metrics are: loss,accuracy,val_loss,val_accuracy,lr\n",
            "WARNING:tensorflow:Can save best model only with val_acc available, skipping.\n"
          ]
        },
        {
          "output_type": "stream",
          "name": "stdout",
          "text": [
            "75/75 - 27s - loss: 0.6404 - accuracy: 0.3333 - val_loss: 0.6372 - val_accuracy: 0.3333 - lr: 1.0000e-04 - 27s/epoch - 360ms/step\n",
            "Epoch 5/10\n"
          ]
        },
        {
          "output_type": "stream",
          "name": "stderr",
          "text": [
            "WARNING:tensorflow:Learning rate reduction is conditioned on metric `val_acc` which is not available. Available metrics are: loss,accuracy,val_loss,val_accuracy,lr\n",
            "WARNING:tensorflow:Can save best model only with val_acc available, skipping.\n"
          ]
        },
        {
          "output_type": "stream",
          "name": "stdout",
          "text": [
            "75/75 - 24s - loss: 0.6395 - accuracy: 0.3333 - val_loss: 0.6368 - val_accuracy: 0.3333 - lr: 1.0000e-04 - 24s/epoch - 318ms/step\n",
            "Epoch 6/10\n"
          ]
        },
        {
          "output_type": "stream",
          "name": "stderr",
          "text": [
            "WARNING:tensorflow:Learning rate reduction is conditioned on metric `val_acc` which is not available. Available metrics are: loss,accuracy,val_loss,val_accuracy,lr\n",
            "WARNING:tensorflow:Can save best model only with val_acc available, skipping.\n"
          ]
        },
        {
          "output_type": "stream",
          "name": "stdout",
          "text": [
            "75/75 - 24s - loss: 0.6392 - accuracy: 0.3333 - val_loss: 0.6366 - val_accuracy: 0.3333 - lr: 1.0000e-04 - 24s/epoch - 323ms/step\n",
            "Epoch 7/10\n"
          ]
        },
        {
          "output_type": "stream",
          "name": "stderr",
          "text": [
            "WARNING:tensorflow:Learning rate reduction is conditioned on metric `val_acc` which is not available. Available metrics are: loss,accuracy,val_loss,val_accuracy,lr\n"
          ]
        }
      ]
    },
    {
      "cell_type": "code",
      "metadata": {
        "colab": {
          "base_uri": "https://localhost:8080/"
        },
        "id": "pWGepXgSjynR",
        "outputId": "a868a9e2-0ec7-4953-e9cb-849deb2c5c81"
      },
      "source": [
        "model.save_weights(\"ResNet50_model.h5\") #using h5 extension\n",
        "print(\"model saved!!!\")"
      ],
      "execution_count": 8,
      "outputs": [
        {
          "output_type": "stream",
          "name": "stdout",
          "text": [
            "model saved!!!\n"
          ]
        }
      ]
    },
    {
      "cell_type": "code",
      "metadata": {
        "id": "CDJo_3UBzsCf",
        "outputId": "5ea3e365-591a-4c66-8e3c-e221237cc9fc",
        "colab": {
          "base_uri": "https://localhost:8080/",
          "height": 524
        }
      },
      "source": [
        "#https://machinelearningmastery.com/display-deep-learning-model-training-history-in-keras/\n",
        "# summarize history for accuracy\n",
        "plt.plot(teacher_his.history['accuracy'],)\n",
        "plt.plot(teacher_his.history['val_accuracy'])\n",
        "plt.title('model accuracy')\n",
        "plt.ylabel('accuracy')\n",
        "plt.xlabel('epoch')\n",
        "plt.legend(['train', 'val'], loc='lower right')\n",
        "plt.show()"
      ],
      "execution_count": 9,
      "outputs": [
        {
          "output_type": "display_data",
          "data": {
            "text/plain": [
              "<Figure size 800x550 with 1 Axes>"
            ],
            "image/png": "[encoded data removed]"
          },
          "metadata": {}
        }
      ]
    },
    {
      "cell_type": "code",
      "metadata": {
        "id": "J-QHDbz1zv6E",
        "outputId": "c701395a-fbc5-4f8f-abb5-05475d59f2ea",
        "colab": {
          "base_uri": "https://localhost:8080/",
          "height": 524
        }
      },
      "source": [
        "#https://machinelearningmastery.com/display-deep-learning-model-training-history-in-keras/\n",
        "# summarize history for accuracy\n",
        "plt.plot(teacher_his.history['loss'])\n",
        "plt.plot(teacher_his.history['val_loss'])\n",
        "plt.title('model Loss')\n",
        "plt.ylabel('Loss')\n",
        "plt.xlabel('epoch')\n",
        "plt.legend(['train', 'val'], loc='lower left')\n",
        "plt.show()"
      ],
      "execution_count": 10,
      "outputs": [
        {
          "output_type": "display_data",
          "data": {
            "text/plain": [
              "<Figure size 800x550 with 1 Axes>"
            ],
            "image/png": "[encoded data removed]"
          },
          "metadata": {}
        }
      ]
    },
    {
      "cell_type": "code",
      "metadata": {
        "colab": {
          "base_uri": "https://localhost:8080/"
        },
        "id": "e9C50c_0zzjJ",
        "outputId": "74da67eb-e3ce-4be4-8616-5b7ca4d9fede"
      },
      "source": [
        "#Y_val_pred = model.predict(x_val)\n",
        "#print(f'The Teacher model Accuracy on the Validation Set:',accuracy_score(np.argmax(y_val, axis=1), np.argmax(Y_val_pred, axis=1)))\n",
        "\n",
        "# Obtain predictions on the validation set\n",
        "Y_val_pred = model.predict(valid_generator)\n",
        "val_accuracy = accuracy_score(valid_generator.classes, np.argmax(Y_val_pred, axis=1))\n",
        "print(f'The Teacher model Accuracy on the Validation Set: {val_accuracy}')"
      ],
      "execution_count": 12,
      "outputs": [
        {
          "output_type": "stream",
          "name": "stdout",
          "text": [
            "10/10 [==============================] - 4s 196ms/step\n",
            "The Teacher model Accuracy on the Validation Set: 0.08053691275167785\n"
          ]
        }
      ]
    },
    {
      "cell_type": "code",
      "metadata": {
        "colab": {
          "base_uri": "https://localhost:8080/"
        },
        "id": "4ybwvuF9z0Nf",
        "outputId": "d069b9d4-dcf0-4c02-9d3f-ed8367e54bbc"
      },
      "source": [
        "#Now let's check my Y_test values\n",
        "#print(f'My Y_test values are:\\n' ,Y_test)\n",
        "\n",
        "\n",
        "# Obtain predictions on the validation set\n",
        "x_val, y_val = valid_generator.next()\n",
        "Y_val_pred = model.predict(x_val)\n",
        "val_accuracy = accuracy_score(np.argmax(y_val, axis=1), np.argmax(Y_val_pred, axis=1))\n",
        "print(f'The Teacher model Accuracy on the Validation Set: {val_accuracy}')"
      ],
      "execution_count": 13,
      "outputs": [
        {
          "output_type": "stream",
          "name": "stdout",
          "text": [
            "1/1 [==============================] - 2s 2s/step\n",
            "The Teacher model Accuracy on the Validation Set: 0.0625\n"
          ]
        }
      ]
    },
    {
      "cell_type": "code",
      "source": [
        "# Now let's check my Y_test values\n",
        "import timeit\n",
        "\n",
        "start = timeit.default_timer()\n",
        "\n",
        "# Obtain predictions on the test set\n",
        "x_test, y_test = test_generator.next()\n",
        "y_pred = model.predict(x_test)\n",
        "\n",
        "# Convert predictions to class labels\n",
        "Y_test = np.argmax(y_test, axis=1)\n",
        "Y_pred = np.argmax(y_pred, axis=1)\n",
        "\n",
        "print(f'My Y_test values are:\\n', Y_test)\n",
        "\n",
        "stop = timeit.default_timer()\n",
        "print('\\nTime:', stop - start, 'sec')"
      ],
      "metadata": {
        "id": "rtFro_Zp4hhr",
        "outputId": "924beec4-0306-405f-86aa-ba527fb25bca",
        "colab": {
          "base_uri": "https://localhost:8080/"
        }
      },
      "execution_count": 18,
      "outputs": [
        {
          "output_type": "stream",
          "name": "stdout",
          "text": [
            "1/1 [==============================] - 0s 66ms/step\n",
            "My Y_test values are:\n",
            " [0 1 0 1 0 1 0 1 0 1 1 0 0 0 0 0]\n",
            "\n",
            "Time: 0.3406266389999928 sec\n"
          ]
        }
      ]
    },
    {
      "cell_type": "code",
      "metadata": {
        "colab": {
          "base_uri": "https://localhost:8080/"
        },
        "id": "xc8YoU-Hz6D3",
        "outputId": "06aae82c-650b-439f-e943-5a25ba37a52d"
      },
      "source": [
        "# Now let's check my predicted values from X_test dataset\n",
        "# And calculate the y_pred with time\n",
        "import timeit\n",
        "\n",
        "start = timeit.default_timer()\n",
        "\n",
        "# Obtain predictions on the test set\n",
        "x_test, y_test = test_generator.next()\n",
        "y_pred = model.predict(x_test)\n",
        "print(f'My predicted Y_test values are:\\n', y_pred)\n",
        "\n",
        "stop = timeit.default_timer()\n",
        "print('\\nTime:', stop - start, 'sec')"
      ],
      "execution_count": 16,
      "outputs": [
        {
          "output_type": "stream",
          "name": "stdout",
          "text": [
            "1/1 [==============================] - 0s 41ms/step\n",
            "My predicted Y_test values are:\n",
            " [[1.0457967e-08 6.2394225e-05 9.9993753e-01]\n",
            " [2.1202357e-01 1.7122252e-02 7.7085418e-01]\n",
            " [7.0592664e-06 2.4810695e-04 9.9974483e-01]\n",
            " [4.7137666e-05 1.7644282e-04 9.9977642e-01]\n",
            " [1.4100568e-03 2.2707528e-03 9.9631917e-01]\n",
            " [1.8253686e-02 1.4342893e-02 9.6740335e-01]\n",
            " [2.9010081e-04 1.2758122e-03 9.9843413e-01]\n",
            " [1.4975803e-02 3.9668102e-03 9.8105741e-01]\n",
            " [2.5788022e-02 8.0826273e-03 9.6612930e-01]\n",
            " [7.5472616e-02 1.2317215e-02 9.1221017e-01]\n",
            " [3.3781093e-02 1.3080486e-02 9.5313835e-01]\n",
            " [6.2122303e-03 5.1194015e-03 9.8866838e-01]\n",
            " [2.7255197e-03 4.9118767e-03 9.9236262e-01]\n",
            " [3.9744243e-04 9.4523793e-04 9.9865735e-01]\n",
            " [6.5532692e-02 1.6342736e-03 9.3283302e-01]\n",
            " [7.3706993e-04 6.6163619e-03 9.9264657e-01]]\n",
            "\n",
            "Time: 0.25815076499998213 sec\n"
          ]
        }
      ]
    },
    {
      "cell_type": "code",
      "metadata": {
        "colab": {
          "base_uri": "https://localhost:8080/"
        },
        "id": "aDvD1tKvmzup",
        "outputId": "fbc47a2d-fca4-4a92-b786-3e34eb2bdc10"
      },
      "source": [
        "import timeit\n",
        "from sklearn.metrics import accuracy_score\n",
        "\n",
        "start = timeit.default_timer()\n",
        "\n",
        "# Obtain predictions on the test set\n",
        "x_test, y_test = test_generator.next()\n",
        "y_pred = model.predict(x_test)\n",
        "\n",
        "# Convert predictions to class labels\n",
        "Y_test = np.argmax(y_test, axis=1)\n",
        "Y_pred = np.argmax(y_pred, axis=1)\n",
        "\n",
        "# Evaluate accuracy\n",
        "accuracy = accuracy_score(Y_test, Y_pred)\n",
        "print(f'My accuracy on Teacher model with ResNet50 on the Test set is: {accuracy}')\n",
        "\n",
        "stop = timeit.default_timer()\n",
        "print('\\nTime:', stop - start, 'sec')"
      ],
      "execution_count": 19,
      "outputs": [
        {
          "output_type": "stream",
          "name": "stdout",
          "text": [
            "1/1 [==============================] - 0s 48ms/step\n",
            "My accuracy on Teacher model with ResNet50 on the Test set is: 0.125\n",
            "\n",
            "Time: 0.35550238199994055 sec\n"
          ]
        }
      ]
    },
    {
      "cell_type": "code",
      "metadata": {
        "colab": {
          "base_uri": "https://localhost:8080/"
        },
        "id": "Wy97eTzunYLp",
        "outputId": "d7cb2b9d-56c2-4fa3-849e-50cac6667577"
      },
      "source": [
        "from sklearn.metrics import classification_report\n",
        "\n",
        "# Obtain predictions on the test set\n",
        "x_test, y_test = test_generator.next()\n",
        "y_pred = model.predict(x_test)\n",
        "\n",
        "# Convert predictions to class labels\n",
        "Y_test = np.argmax(y_test, axis=1)\n",
        "Y_pred = np.argmax(y_pred, axis=1)\n",
        "\n",
        "# Print classification report\n",
        "print('Classification Report of ResNet50:')\n",
        "print(classification_report(Y_test, Y_pred))"
      ],
      "execution_count": 20,
      "outputs": [
        {
          "output_type": "stream",
          "name": "stdout",
          "text": [
            "1/1 [==============================] - 0s 117ms/step\n",
            "Classification Report of ResNet50:\n",
            "              precision    recall  f1-score   support\n",
            "\n",
            "           0       0.00      0.00      0.00      14.0\n",
            "           1       0.00      0.00      0.00       2.0\n",
            "           2       0.00      0.00      0.00       0.0\n",
            "\n",
            "    accuracy                           0.00      16.0\n",
            "   macro avg       0.00      0.00      0.00      16.0\n",
            "weighted avg       0.00      0.00      0.00      16.0\n",
            "\n"
          ]
        },
        {
          "output_type": "stream",
          "name": "stderr",
          "text": [
            "/usr/local/lib/python3.10/dist-packages/sklearn/metrics/_classification.py:1344: UndefinedMetricWarning: Precision and F-score are ill-defined and being set to 0.0 in labels with no predicted samples. Use `zero_division` parameter to control this behavior.\n",
            "  _warn_prf(average, modifier, msg_start, len(result))\n",
            "/usr/local/lib/python3.10/dist-packages/sklearn/metrics/_classification.py:1344: UndefinedMetricWarning: Recall and F-score are ill-defined and being set to 0.0 in labels with no true samples. Use `zero_division` parameter to control this behavior.\n",
            "  _warn_prf(average, modifier, msg_start, len(result))\n",
            "/usr/local/lib/python3.10/dist-packages/sklearn/metrics/_classification.py:1344: UndefinedMetricWarning: Precision and F-score are ill-defined and being set to 0.0 in labels with no predicted samples. Use `zero_division` parameter to control this behavior.\n",
            "  _warn_prf(average, modifier, msg_start, len(result))\n",
            "/usr/local/lib/python3.10/dist-packages/sklearn/metrics/_classification.py:1344: UndefinedMetricWarning: Recall and F-score are ill-defined and being set to 0.0 in labels with no true samples. Use `zero_division` parameter to control this behavior.\n",
            "  _warn_prf(average, modifier, msg_start, len(result))\n",
            "/usr/local/lib/python3.10/dist-packages/sklearn/metrics/_classification.py:1344: UndefinedMetricWarning: Precision and F-score are ill-defined and being set to 0.0 in labels with no predicted samples. Use `zero_division` parameter to control this behavior.\n",
            "  _warn_prf(average, modifier, msg_start, len(result))\n",
            "/usr/local/lib/python3.10/dist-packages/sklearn/metrics/_classification.py:1344: UndefinedMetricWarning: Recall and F-score are ill-defined and being set to 0.0 in labels with no true samples. Use `zero_division` parameter to control this behavior.\n",
            "  _warn_prf(average, modifier, msg_start, len(result))\n"
          ]
        }
      ]
    },
    {
      "cell_type": "markdown",
      "metadata": {
        "id": "W5TaVx7prspE"
      },
      "source": [
        "**AUC ROC**"
      ]
    },
    {
      "cell_type": "code",
      "metadata": {
        "colab": {
          "base_uri": "https://localhost:8080/",
          "height": 409
        },
        "id": "gedmLVmMrsWF",
        "outputId": "b13634f4-5119-4e1e-c8d9-e61921909c18"
      },
      "source": [
        "# https://scikit-learn.org/stable/auto_examples/model_selection/plot_roc.html\n",
        "\n",
        "from sklearn.metrics import roc_curve, auc\n",
        "from numpy import interp\n",
        "from itertools import cycle\n",
        "\n",
        "num_of_classes = y_train.shape[1]\n",
        "print(f'Auc Curve on Validation:\\n')\n",
        "\n",
        "\n",
        "# Compute ROC curve and ROC area for each class\n",
        "fpr = dict()\n",
        "tpr = dict()\n",
        "roc_auc = dict()\n",
        "\n",
        "for i in range(num_of_classes):\n",
        "    fpr[i], tpr[i], _ = roc_curve(y_val[:, i], Y_val_pred[:, i])\n",
        "    roc_auc[i] = auc(fpr[i], tpr[i])\n",
        "\n",
        "# Compute micro-average ROC curve and ROC area\n",
        "fpr[\"micro\"], tpr[\"micro\"], _ = roc_curve(y_val.ravel(), Y_val_pred.ravel())\n",
        "roc_auc[\"micro\"] = auc(fpr[\"micro\"], tpr[\"micro\"])\n",
        "\n",
        "\n",
        "lw = 3\n",
        "# Plot all ROC curves\n",
        "\n",
        "colors = cycle(['blue', 'orange', 'cornflowerblue'])\n",
        "for i, color in zip(range(num_of_classes), colors):\n",
        "    plt.plot(fpr[i],tpr[i], color=color, lw=lw,\n",
        "             label='ROC curve of class {0} (area = {1:0.2f})'\n",
        "             ''.format(i, roc_auc[i]))\n",
        "\n",
        "plt.style.use('ggplot')\n",
        "plt.plot([0, 1], [0, 1], 'k--', lw=lw)\n",
        "plt.xlim([0.0, 1.0])\n",
        "plt.ylim([0.0, 1.05])\n",
        "plt.xlabel('False Positive Rate')\n",
        "plt.ylabel('True Positive Rate')\n",
        "plt.title('Some extension of Receiver operating characteristic to multi-class')\n",
        "plt.legend(loc=\"lower right\")\n",
        "plt.show()"
      ],
      "execution_count": null,
      "outputs": [
        {
          "output_type": "stream",
          "text": [
            "Auc Curve on Validation:\n",
            "\n"
          ],
          "name": "stdout"
        },
        {
          "output_type": "display_data",
          "data": {
            "image/png": "[encoded data removed]",
            "text/plain": [
              "<Figure size 576x396 with 1 Axes>"
            ]
          },
          "metadata": {
            "tags": []
          }
        }
      ]
    },
    {
      "cell_type": "code",
      "metadata": {
        "id": "SrqGDS-WpM0c"
      },
      "source": [
        "# https://scikit-learn.org/stable/auto_examples/model_selection/plot_roc.html\n",
        "\n",
        "from sklearn.metrics import roc_curve, auc\n",
        "from numpy import interp\n",
        "from itertools import cycle\n",
        "\n",
        "num_of_classes = y_train.shape[1]\n",
        "print(f'Auc Curve on Test set:\\n')\n",
        "\n",
        "\n",
        "# Compute ROC curve and ROC area for each class\n",
        "fpr = dict()\n",
        "tpr = dict()\n",
        "roc_auc = dict()\n",
        "\n",
        "for i in range(num_of_classes):\n",
        "    fpr[i], tpr[i], _ = roc_curve(Y_test[:, i], y_pred[:, i])\n",
        "    roc_auc[i] = auc(fpr[i], tpr[i])\n",
        "\n",
        "# Compute micro-average ROC curve and ROC area\n",
        "fpr[\"micro\"], tpr[\"micro\"], _ = roc_curve(Y_test.ravel(), y_pred.ravel())\n",
        "roc_auc[\"micro\"] = auc(fpr[\"micro\"], tpr[\"micro\"])\n",
        "\n",
        "\n",
        "lw = 3\n",
        "# Plot all ROC curves\n",
        "\n",
        "colors = cycle(['blue', 'orange', 'cornflowerblue'])\n",
        "for i, color in zip(range(num_of_classes), colors):\n",
        "    plt.plot(fpr[i],tpr[i], color=color, lw=lw,\n",
        "             label='ROC curve of class {0} (area = {1:0.2f})'\n",
        "             ''.format(i, roc_auc[i]))\n",
        "\n",
        "plt.style.use('ggplot')\n",
        "plt.plot([0, 1], [0, 1], 'k--', lw=lw)\n",
        "plt.xlim([0.0, 1.0])\n",
        "plt.ylim([0.0, 1.05])\n",
        "\n",
        "plt.xlabel('False Positive Rate')\n",
        "plt.ylabel('True Positive Rate')\n",
        "plt.title('Some extension of Receiver operating characteristic to multi-class')\n",
        "plt.legend(loc=\"lower right\")\n",
        "plt.show()"
      ],
      "execution_count": null,
      "outputs": []
    },
    {
      "cell_type": "markdown",
      "metadata": {
        "id": "W1EPv8aFnYos"
      },
      "source": [
        "**Student Model**"
      ]
    },
    {
      "cell_type": "code",
      "metadata": {
        "colab": {
          "base_uri": "https://localhost:8080/"
        },
        "id": "sgVqzo_jvs9x",
        "outputId": "d2177d8b-3730-46d2-c0c6-a43eda6fb913"
      },
      "source": [
        "# Define the student model\n",
        "# Student model that is stand-alone. We will evaluate its accuracy compared to a teacher trained student model\n",
        "# Hyperparameters\n",
        "input_shape = (224, 224, 3) # Input shape of each image\n",
        "nb_classes = 2\n",
        "\n",
        "customstudent = Sequential()\n",
        "customstudent.add(Conv2D(128, kernel_size=(3, 3),activation='relu', input_shape=input_shape))\n",
        "customstudent.add(MaxPooling2D(pool_size=(2, 2)))\n",
        "customstudent.add(Conv2D(64, (3, 3), activation='relu'))\n",
        "customstudent.add(MaxPooling2D(pool_size=(2, 2)))\n",
        "customstudent.add(Conv2D(32, (3, 3), activation='relu'))\n",
        "customstudent.add(Dropout(0.25)) # For reguralization\n",
        "\n",
        "customstudent.add(layers.Flatten())\n",
        "\n",
        "customstudent.add(layers.Dense(nb_classes))\n",
        "customstudent.add(layers.Activation('softmax')) # Note that we add a normal softmax layer to begin with\n",
        "\n",
        "\n",
        "customstudent.compile(loss='categorical_crossentropy',\n",
        "              optimizer='adadelta',\n",
        "              metrics=['accuracy'])\n",
        "\n",
        "print(customstudent.summary())"
      ],
      "execution_count": null,
      "outputs": [
        {
          "output_type": "stream",
          "text": [
            "Model: \"sequential_3\"\n",
            "_________________________________________________________________\n",
            "Layer (type)                 Output Shape              Param #   \n",
            "=================================================================\n",
            "conv2d (Conv2D)              (None, 222, 222, 128)     3584      \n",
            "_________________________________________________________________\n",
            "max_pooling2d (MaxPooling2D) (None, 111, 111, 128)     0         \n",
            "_________________________________________________________________\n",
            "conv2d_1 (Conv2D)            (None, 109, 109, 64)      73792     \n",
            "_________________________________________________________________\n",
            "max_pooling2d_1 (MaxPooling2 (None, 54, 54, 64)        0         \n",
            "_________________________________________________________________\n",
            "conv2d_2 (Conv2D)            (None, 52, 52, 32)        18464     \n",
            "_________________________________________________________________\n",
            "dropout_3 (Dropout)          (None, 52, 52, 32)        0         \n",
            "_________________________________________________________________\n",
            "flatten (Flatten)            (None, 86528)             0         \n",
            "_________________________________________________________________\n",
            "dense_3 (Dense)              (None, 2)                 173058    \n",
            "_________________________________________________________________\n",
            "activation (Activation)      (None, 2)                 0         \n",
            "=================================================================\n",
            "Total params: 268,898\n",
            "Trainable params: 268,898\n",
            "Non-trainable params: 0\n",
            "_________________________________________________________________\n",
            "None\n"
          ],
          "name": "stdout"
        }
      ]
    },
    {
      "cell_type": "code",
      "metadata": {
        "id": "uH990HN_0Ovn"
      },
      "source": [
        "# Define a new model that outputs only teacher logits\n",
        "# Raise the temperature of teacher model and gather the soft targets\n",
        "\n",
        "# Collect the logits from the previous layer output and store it in a different model\n",
        "teacher_WO_Softmax = Model(model.input, model.get_layer('dense_2').output)"
      ],
      "execution_count": null,
      "outputs": []
    },
    {
      "cell_type": "code",
      "metadata": {
        "id": "jKo9WI4Y0WWh"
      },
      "source": [
        "# Define a manual softmax function\n",
        "def softmax(x):\n",
        "    return np.exp(x)/(np.exp(x).sum())"
      ],
      "execution_count": null,
      "outputs": []
    },
    {
      "cell_type": "code",
      "metadata": {
        "colab": {
          "base_uri": "https://localhost:8080/"
        },
        "id": "O0xHXnJD0YXu",
        "outputId": "ea34e351-6318-4889-826c-55d0a46957dd"
      },
      "source": [
        "# Prepare the soft targets and the target data for student to be trained upon\n",
        "# From our temperature experiment we get temp = 10 is gave is best results\n",
        "temp = 10\n",
        "# This model directly gives the logits ( see the teacher_WO_softmax model above)\n",
        "teacher_train_logits = teacher_WO_Softmax.predict(x_train)\n",
        "teacher_test_logits = teacher_WO_Softmax.predict(x_val)\n",
        "\n",
        "# Perform a manual softmax at raised temperature\n",
        "train_logits_T = teacher_train_logits/ temp # temp = 10\n",
        "test_logits_T = teacher_test_logits / temp\n",
        "\n",
        "Y_train_soft = softmax(train_logits_T)\n",
        "Y_test_soft = softmax(test_logits_T)\n",
        "\n",
        "# Concatenate\n",
        "Y_train_new = np.concatenate([y_train, Y_train_soft], axis=1)\n",
        "Y_test_new =  np.concatenate([y_val, Y_test_soft], axis =1)\n",
        "\n",
        "#Print the Shape\n",
        "print(train_logits_T.shape)\n",
        "print(test_logits_T.shape)\n",
        "print(Y_train_new.shape)\n",
        "print(Y_test_new.shape)"
      ],
      "execution_count": null,
      "outputs": [
        {
          "output_type": "stream",
          "text": [
            "(5596, 2)\n",
            "(1400, 2)\n",
            "(5596, 4)\n",
            "(1400, 4)\n"
          ],
          "name": "stdout"
        }
      ]
    },
    {
      "cell_type": "code",
      "metadata": {
        "colab": {
          "base_uri": "https://localhost:8080/"
        },
        "id": "2UEnZ3Ya0bko",
        "outputId": "b6da1081-3867-4233-f149-c8b0da01141f"
      },
      "source": [
        "# Prepare the student model that outputs probabilities with and without temperature\n",
        "# Remove the softmax layer from the student network\n",
        "temp = 10\n",
        "customstudent.layers.pop()\n",
        "\n",
        "# Now collect the logits from the last layer\n",
        "# This is going to be a tensor. And hence it needs to pass through a Activation layer\n",
        "logits = customstudent.layers[-1].output\n",
        "probs = layers.Activation('softmax')(logits)\n",
        "\n",
        "\n",
        "# softed probabilities at raised temperature\n",
        "logits_T = Lambda(lambda x: x / temp)(logits)\n",
        "probs_T = layers.Activation('softmax')(logits_T)\n",
        "\n",
        "output = concatenate([probs, probs_T])\n",
        "\n",
        "# This is our new student model\n",
        "customstudent = Model(customstudent.input, output)\n",
        "\n",
        "customstudent.summary()"
      ],
      "execution_count": null,
      "outputs": [
        {
          "output_type": "stream",
          "text": [
            "Model: \"model_1\"\n",
            "__________________________________________________________________________________________________\n",
            "Layer (type)                    Output Shape         Param #     Connected to                     \n",
            "==================================================================================================\n",
            "conv2d_input (InputLayer)       [(None, 224, 224, 3) 0                                            \n",
            "__________________________________________________________________________________________________\n",
            "conv2d (Conv2D)                 (None, 222, 222, 128 3584        conv2d_input[0][0]               \n",
            "__________________________________________________________________________________________________\n",
            "max_pooling2d (MaxPooling2D)    (None, 111, 111, 128 0           conv2d[0][0]                     \n",
            "__________________________________________________________________________________________________\n",
            "conv2d_1 (Conv2D)               (None, 109, 109, 64) 73792       max_pooling2d[0][0]              \n",
            "__________________________________________________________________________________________________\n",
            "max_pooling2d_1 (MaxPooling2D)  (None, 54, 54, 64)   0           conv2d_1[0][0]                   \n",
            "__________________________________________________________________________________________________\n",
            "conv2d_2 (Conv2D)               (None, 52, 52, 32)   18464       max_pooling2d_1[0][0]            \n",
            "__________________________________________________________________________________________________\n",
            "dropout_3 (Dropout)             (None, 52, 52, 32)   0           conv2d_2[0][0]                   \n",
            "__________________________________________________________________________________________________\n",
            "flatten (Flatten)               (None, 86528)        0           dropout_3[0][0]                  \n",
            "__________________________________________________________________________________________________\n",
            "dense_3 (Dense)                 (None, 2)            173058      flatten[0][0]                    \n",
            "__________________________________________________________________________________________________\n",
            "activation (Activation)         (None, 2)            0           dense_3[0][0]                    \n",
            "__________________________________________________________________________________________________\n",
            "lambda (Lambda)                 (None, 2)            0           activation[0][0]                 \n",
            "__________________________________________________________________________________________________\n",
            "activation_1 (Activation)       (None, 2)            0           activation[0][0]                 \n",
            "__________________________________________________________________________________________________\n",
            "activation_2 (Activation)       (None, 2)            0           lambda[0][0]                     \n",
            "__________________________________________________________________________________________________\n",
            "concatenate (Concatenate)       (None, 4)            0           activation_1[0][0]               \n",
            "                                                                 activation_2[0][0]               \n",
            "==================================================================================================\n",
            "Total params: 268,898\n",
            "Trainable params: 268,898\n",
            "Non-trainable params: 0\n",
            "__________________________________________________________________________________________________\n"
          ],
          "name": "stdout"
        }
      ]
    },
    {
      "cell_type": "code",
      "metadata": {
        "id": "brOe8JSp0gA_"
      },
      "source": [
        "# Declare knowledge distillation loss function\n",
        "# This will be a teacher trained student model.\n",
        "# This uses a knowledge distillation loss function\n",
        "# Declare knowledge distillation loss\n",
        "def knowledge_distillation_loss(y_true, y_pred, alpha):\n",
        "\n",
        "    # Extract the one-hot encoded values and the softs separately so that we can create two objective functions\n",
        "    y_true, y_true_softs = y_true[: , :nb_classes], y_true[: , nb_classes:]\n",
        "\n",
        "    y_pred, y_pred_softs = y_pred[: , :nb_classes], y_pred[: , nb_classes:]\n",
        "\n",
        "    loss = alpha*logloss(y_true,y_pred) + (1-alpha)*logloss(y_true_softs, y_pred_softs)\n",
        "\n",
        "    return loss\n",
        "\n",
        "# For testing use regular output probabilities - without temperature\n",
        "def acc(y_true, y_pred):\n",
        "    y_true = y_true[:, :nb_classes]\n",
        "    y_pred = y_pred[:, :nb_classes]\n",
        "    return categorical_accuracy(y_true, y_pred)\n",
        "\n",
        "customstudent.compile(\n",
        "    #optimizer=optimizers.SGD(lr=1e-1, momentum=0.9, nesterov=True),\n",
        "    optimizer='adadelta',\n",
        "    loss=lambda y_true, y_pred: knowledge_distillation_loss(y_true, y_pred, 0.1),\n",
        "    #loss='categorical_crossentropy',\n",
        "    metrics=[acc]\n",
        "  )"
      ],
      "execution_count": null,
      "outputs": []
    },
    {
      "cell_type": "code",
      "metadata": {
        "colab": {
          "base_uri": "https://localhost:8080/"
        },
        "id": "2XLkOCYK0lBz",
        "outputId": "e709ca8a-7801-41cc-a4b1-fac11b0af9de"
      },
      "source": [
        "# Train the student model\n",
        "epochs = 20\n",
        "batch_size = 64\n",
        "customstudent_student_his = customstudent.fit(x_train, Y_train_new,\n",
        "          batch_size=batch_size,\n",
        "          epochs=epochs,\n",
        "          verbose=1,\n",
        "          validation_data=(x_val, Y_test_new))"
      ],
      "execution_count": null,
      "outputs": [
        {
          "output_type": "stream",
          "text": [
            "Epoch 1/20\n",
            "88/88 [==============================] - 16s 184ms/step - loss: 0.0441 - acc: 0.8710 - val_loss: 0.0442 - val_acc: 0.8750\n",
            "Epoch 2/20\n",
            "88/88 [==============================] - 16s 184ms/step - loss: 0.0439 - acc: 0.8733 - val_loss: 0.0448 - val_acc: 0.8671\n",
            "Epoch 3/20\n",
            "88/88 [==============================] - 16s 185ms/step - loss: 0.0434 - acc: 0.8788 - val_loss: 0.0442 - val_acc: 0.8750\n",
            "Epoch 4/20\n",
            "88/88 [==============================] - 16s 185ms/step - loss: 0.0439 - acc: 0.8740 - val_loss: 0.0443 - val_acc: 0.8721\n",
            "Epoch 5/20\n",
            "88/88 [==============================] - 16s 185ms/step - loss: 0.0437 - acc: 0.8763 - val_loss: 0.0442 - val_acc: 0.8750\n",
            "Epoch 6/20\n",
            "88/88 [==============================] - 16s 186ms/step - loss: 0.0439 - acc: 0.8742 - val_loss: 0.0444 - val_acc: 0.8721\n",
            "Epoch 7/20\n",
            "88/88 [==============================] - 16s 186ms/step - loss: 0.0435 - acc: 0.8783 - val_loss: 0.0442 - val_acc: 0.8743\n",
            "Epoch 8/20\n",
            "88/88 [==============================] - 16s 186ms/step - loss: 0.0435 - acc: 0.8794 - val_loss: 0.0439 - val_acc: 0.8764\n",
            "Epoch 9/20\n",
            "88/88 [==============================] - 16s 187ms/step - loss: 0.0436 - acc: 0.8769 - val_loss: 0.0440 - val_acc: 0.8771\n",
            "Epoch 10/20\n",
            "88/88 [==============================] - 17s 188ms/step - loss: 0.0438 - acc: 0.8754 - val_loss: 0.0441 - val_acc: 0.8757\n",
            "Epoch 11/20\n",
            "88/88 [==============================] - 17s 188ms/step - loss: 0.0436 - acc: 0.8776 - val_loss: 0.0440 - val_acc: 0.8764\n",
            "Epoch 12/20\n",
            "88/88 [==============================] - 17s 188ms/step - loss: 0.0440 - acc: 0.8729 - val_loss: 0.0440 - val_acc: 0.8779\n",
            "Epoch 13/20\n",
            "88/88 [==============================] - 17s 188ms/step - loss: 0.0437 - acc: 0.8754 - val_loss: 0.0439 - val_acc: 0.8779\n",
            "Epoch 14/20\n",
            "88/88 [==============================] - 17s 188ms/step - loss: 0.0439 - acc: 0.8738 - val_loss: 0.0438 - val_acc: 0.8779\n",
            "Epoch 15/20\n",
            "88/88 [==============================] - 17s 189ms/step - loss: 0.0435 - acc: 0.8769 - val_loss: 0.0439 - val_acc: 0.8779\n",
            "Epoch 16/20\n",
            "88/88 [==============================] - 17s 189ms/step - loss: 0.0433 - acc: 0.8794 - val_loss: 0.0441 - val_acc: 0.8750\n",
            "Epoch 17/20\n",
            "88/88 [==============================] - 17s 189ms/step - loss: 0.0438 - acc: 0.8751 - val_loss: 0.0438 - val_acc: 0.8779\n",
            "Epoch 18/20\n",
            "88/88 [==============================] - 17s 189ms/step - loss: 0.0434 - acc: 0.8785 - val_loss: 0.0430 - val_acc: 0.8871\n",
            "Epoch 19/20\n",
            "88/88 [==============================] - 17s 189ms/step - loss: 0.0437 - acc: 0.8758 - val_loss: 0.0436 - val_acc: 0.8800\n",
            "Epoch 20/20\n",
            "88/88 [==============================] - 17s 189ms/step - loss: 0.0434 - acc: 0.8788 - val_loss: 0.0436 - val_acc: 0.8786\n"
          ],
          "name": "stdout"
        }
      ]
    },
    {
      "cell_type": "code",
      "metadata": {
        "id": "eKFlkPr831Yi"
      },
      "source": [
        "#https://machinelearningmastery.com/display-deep-learning-model-training-history-in-keras/\n",
        "# summarize history for accuracy\n",
        "plt.style.use('seaborn')\n",
        "plt.plot(customstudent_student_his.history['acc'])\n",
        "plt.plot(customstudent_student_his.history['val_acc'])\n",
        "plt.title('model accuracy')\n",
        "plt.ylabel('accuracy')\n",
        "plt.xlabel('epoch')\n",
        "plt.legend(['train', 'val'], loc='lower right')\n",
        "plt.show()"
      ],
      "execution_count": null,
      "outputs": []
    },
    {
      "cell_type": "code",
      "metadata": {
        "id": "rhqcGEUm35Cf"
      },
      "source": [
        "#https://machinelearningmastery.com/display-deep-learning-model-training-history-in-keras/\n",
        "# summarize history for accuracy\n",
        "plt.plot(customstudent_student_his.history['loss'])\n",
        "plt.plot(customstudent_student_his.history['val_loss'])\n",
        "plt.title('model loss')\n",
        "plt.ylabel('accuracy')\n",
        "plt.xlabel('epoch')\n",
        "plt.legend(['train', 'val'], loc='upper right')\n",
        "plt.show()"
      ],
      "execution_count": null,
      "outputs": []
    },
    {
      "cell_type": "code",
      "metadata": {
        "colab": {
          "base_uri": "https://localhost:8080/"
        },
        "id": "Eflf3u3938Pl",
        "outputId": "2f12333c-a399-43e3-c525-06f0151e5e7c"
      },
      "source": [
        "Y_val_pred_student = customstudent.predict(x_val)\n",
        "print(f'The CustomStudent model Accuracy on the Validation Set:',accuracy_score(np.argmax(y_val, axis=1), np.argmax(Y_val_pred_student, axis=1)))"
      ],
      "execution_count": null,
      "outputs": [
        {
          "output_type": "stream",
          "text": [
            "The CustomStudent model Accuracy on the Validation Set: 0.8785714285714286\n"
          ],
          "name": "stdout"
        }
      ]
    },
    {
      "cell_type": "code",
      "metadata": {
        "colab": {
          "base_uri": "https://localhost:8080/"
        },
        "id": "Q4CmzFLB4Lew",
        "outputId": "7dc80b1c-12a0-4c21-f3fe-73d991e79115"
      },
      "source": [
        "#Now let's check my Y_test values\n",
        "print(f'My Y_test values are:\\n' ,Y_test)"
      ],
      "execution_count": null,
      "outputs": [
        {
          "output_type": "stream",
          "text": [
            "My Y_test values are:\n",
            " [[1. 0.]\n",
            " [0. 1.]\n",
            " [1. 0.]\n",
            " ...\n",
            " [1. 0.]\n",
            " [0. 1.]\n",
            " [1. 0.]]\n"
          ],
          "name": "stdout"
        }
      ]
    },
    {
      "cell_type": "code",
      "metadata": {
        "colab": {
          "base_uri": "https://localhost:8080/"
        },
        "id": "ZXiWzbBA4jgs",
        "outputId": "681fc4c8-2342-4abe-92e5-0738cdba47fd"
      },
      "source": [
        "#Now let's check my predcited values from X_test dataset\n",
        "import timeit\n",
        "\n",
        "start = timeit.default_timer()\n",
        "#Your statements here\n",
        "y_pred_student = customstudent.predict(X_test)\n",
        "print(f'My predicted Y_test values are:\\n' ,y_pred_student)\n",
        "\n",
        "stop = timeit.default_timer()\n",
        "print('\\nTime: ',stop - start,'sec')"
      ],
      "execution_count": null,
      "outputs": [
        {
          "output_type": "stream",
          "text": [
            "My predicted Y_test values are:\n",
            " [[0.73105854 0.26894143 0.5249792  0.4750208 ]\n",
            " [0.26894143 0.73105854 0.4750208  0.5249792 ]\n",
            " [0.73105854 0.26894143 0.5249792  0.4750208 ]\n",
            " ...\n",
            " [0.73105854 0.2689415  0.5249792  0.47502083]\n",
            " [0.31061557 0.68938446 0.4800795  0.5199205 ]\n",
            " [0.73105854 0.26894143 0.5249792  0.4750208 ]]\n",
            "\n",
            "Time:  2.5788797919994977 sec\n"
          ],
          "name": "stdout"
        }
      ]
    },
    {
      "cell_type": "code",
      "metadata": {
        "colab": {
          "base_uri": "https://localhost:8080/"
        },
        "id": "dvQZH84Z4p9D",
        "outputId": "42d7d3fe-d053-4cb6-c555-fdc58c702016"
      },
      "source": [
        "start = timeit.default_timer()\n",
        "#Your statements here\n",
        "\n",
        "#Now let's check the accuracy between the original & predicted (Y_test , y_pred)\n",
        "print(f'My accuracy on Custom Student model on the Test set is:',accuracy_score(np.argmax(Y_test, axis=1), np.argmax(y_pred_student, axis=1)))\n",
        "\n",
        "stop = timeit.default_timer()\n",
        "print('\\nTime: ',stop - start,'sec')"
      ],
      "execution_count": null,
      "outputs": [
        {
          "output_type": "stream",
          "text": [
            "My accuracy on Custom Student model on the Test set is: 0.9173333333333333\n",
            "\n",
            "Time:  0.0009702650004328461 sec\n"
          ],
          "name": "stdout"
        }
      ]
    },
    {
      "cell_type": "code",
      "metadata": {
        "colab": {
          "base_uri": "https://localhost:8080/"
        },
        "id": "fZQKmsH7ydM3",
        "outputId": "7f734761-fa65-494c-8109-a2c44756ae65"
      },
      "source": [
        "# Classification_report\n",
        "print(f'Classification Report of Resnet50:\\n',classification_report(np.argmax(Y_test, axis=1), np.argmax(y_pred_student, axis=1)))"
      ],
      "execution_count": null,
      "outputs": [
        {
          "output_type": "stream",
          "text": [
            "Classification Report of Resnet50:\n",
            "               precision    recall  f1-score   support\n",
            "\n",
            "           0       0.88      0.97      0.92      1500\n",
            "           1       0.96      0.87      0.91      1500\n",
            "\n",
            "    accuracy                           0.92      3000\n",
            "   macro avg       0.92      0.92      0.92      3000\n",
            "weighted avg       0.92      0.92      0.92      3000\n",
            "\n"
          ],
          "name": "stdout"
        }
      ]
    },
    {
      "cell_type": "code",
      "metadata": {
        "colab": {
          "base_uri": "https://localhost:8080/",
          "height": 409
        },
        "id": "hKBaOwEJydE1",
        "outputId": "cf387667-4121-4069-bbd5-9120d37d5c43"
      },
      "source": [
        "# https://scikit-learn.org/stable/auto_examples/model_selection/plot_roc.html\n",
        "\n",
        "from sklearn.metrics import roc_curve, auc\n",
        "from numpy import interp\n",
        "from itertools import cycle\n",
        "\n",
        "num_of_classes = y_train.shape[1]\n",
        "print(f'Auc Curve on Validation:\\n')\n",
        "\n",
        "\n",
        "# Compute ROC curve and ROC area for each class\n",
        "fpr = dict()\n",
        "tpr = dict()\n",
        "roc_auc = dict()\n",
        "\n",
        "for i in range(num_of_classes):\n",
        "    fpr[i], tpr[i], _ = roc_curve(Y_test_new[:, i], Y_val_pred_student[:, i])\n",
        "    roc_auc[i] = auc(fpr[i], tpr[i])\n",
        "\n",
        "# Compute micro-average ROC curve and ROC area\n",
        "# fpr[\"micro\"], tpr[\"micro\"], _ = roc_curve(Y_test_new.ravel(), Y_val_pred_student.ravel())\n",
        "# roc_auc[\"micro\"] = auc(fpr[\"micro\"], tpr[\"micro\"])\n",
        "\n",
        "\n",
        "lw = 3\n",
        "# Plot all ROC curves\n",
        "\n",
        "colors = cycle(['blue', 'orange', 'cornflowerblue'])\n",
        "for i, color in zip(range(num_of_classes), colors):\n",
        "    plt.plot(fpr[i],tpr[i], color=color, lw=lw,\n",
        "             label='ROC curve of class {0} (area = {1:0.2f})'\n",
        "             ''.format(i, roc_auc[i]))\n",
        "\n",
        "plt.style.use('ggplot')\n",
        "plt.plot([0, 1], [0, 1], 'k--', lw=lw)\n",
        "plt.xlim([0.0, 1.0])\n",
        "plt.ylim([0.0, 1.05])\n",
        "plt.xlabel('False Positive Rate')\n",
        "plt.ylabel('True Positive Rate')\n",
        "plt.title('Some extension of Receiver operating characteristic to multi-class')\n",
        "plt.legend(loc=\"lower right\")\n",
        "plt.show()"
      ],
      "execution_count": null,
      "outputs": [
        {
          "output_type": "stream",
          "text": [
            "Auc Curve on Validation:\n",
            "\n"
          ],
          "name": "stdout"
        },
        {
          "output_type": "display_data",
          "data": {
            "image/png": "[encoded data removed]",
            "text/plain": [
              "<Figure size 576x396 with 1 Axes>"
            ]
          },
          "metadata": {
            "tags": []
          }
        }
      ]
    },
    {
      "cell_type": "code",
      "metadata": {
        "colab": {
          "base_uri": "https://localhost:8080/",
          "height": 411
        },
        "id": "kjoxO7sSyrJN",
        "outputId": "249609eb-3198-44d4-a25d-9708feb3c122"
      },
      "source": [
        "# https://scikit-learn.org/stable/auto_examples/model_selection/plot_roc.html\n",
        "\n",
        "from sklearn.metrics import roc_curve, auc\n",
        "from numpy import interp\n",
        "from itertools import cycle\n",
        "\n",
        "num_of_classes = y_train.shape[1]\n",
        "print(f'Auc Curve on Test set:\\n')\n",
        "\n",
        "\n",
        "# Compute ROC curve and ROC area for each class\n",
        "fpr = dict()\n",
        "tpr = dict()\n",
        "roc_auc = dict()\n",
        "\n",
        "for i in range(num_of_classes):\n",
        "    fpr[i], tpr[i], _ = roc_curve(Y_test[:, i], y_pred_student[:, i])\n",
        "    roc_auc[i] = auc(fpr[i], tpr[i])\n",
        "\n",
        "# Compute micro-average ROC curve and ROC area\n",
        "# fpr[\"micro\"], tpr[\"micro\"], _ = roc_curve(Y_test.ravel(), y_pred_student.ravel())\n",
        "# roc_auc[\"micro\"] = auc(fpr[\"micro\"], tpr[\"micro\"])\n",
        "\n",
        "\n",
        "lw = 3\n",
        "# Plot all ROC curves\n",
        "\n",
        "colors = cycle(['blue', 'orange', 'cornflowerblue'])\n",
        "for i, color in zip(range(num_of_classes), colors):\n",
        "    plt.plot(fpr[i],tpr[i], color=color, lw=lw,\n",
        "             label='ROC curve of class {0} (area = {1:0.2f})'\n",
        "             ''.format(i, roc_auc[i]))\n",
        "\n",
        "plt.style.use('ggplot')\n",
        "plt.plot([0, 1], [0, 1], 'k--', lw=lw)\n",
        "plt.xlim([0.0, 1.0])\n",
        "plt.ylim([0.0, 1.05])\n",
        "\n",
        "plt.xlabel('False Positive Rate')\n",
        "plt.ylabel('True Positive Rate')\n",
        "plt.title('Some extension of Receiver operating characteristic to multi-class')\n",
        "plt.legend(loc=\"lower right\")\n",
        "plt.show()"
      ],
      "execution_count": null,
      "outputs": [
        {
          "output_type": "stream",
          "text": [
            "Auc Curve on Test set:\n",
            "\n"
          ],
          "name": "stdout"
        },
        {
          "output_type": "display_data",
          "data": {
            "image/png": "[encoded data removed]",
            "text/plain": [
              "<Figure size 576x396 with 1 Axes>"
            ]
          },
          "metadata": {
            "tags": []
          }
        }
      ]
    },
    {
      "cell_type": "markdown",
      "metadata": {
        "id": "vHcgXahESLKc"
      },
      "source": [
        "-----"
      ]
    }
  ]
}